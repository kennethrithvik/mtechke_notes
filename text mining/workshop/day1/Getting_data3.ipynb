{
 "cells": [
  {
   "cell_type": "code",
   "execution_count": 2,
   "metadata": {},
   "outputs": [
    {
     "name": "stdout",
     "output_type": "stream",
     "text": [
      "Collecting tweepy\n",
      "  Downloading https://files.pythonhosted.org/packages/05/f1/2e8c7b202dd04117a378ac0c55cc7dafa80280ebd7f692f1fa8f27fd6288/tweepy-3.6.0-py2.py3-none-any.whl\n",
      "Collecting requests-oauthlib>=0.7.0 (from tweepy)\n",
      "  Downloading https://files.pythonhosted.org/packages/94/e7/c250d122992e1561690d9c0f7856dadb79d61fd4bdd0e598087dce607f6c/requests_oauthlib-1.0.0-py2.py3-none-any.whl\n",
      "Requirement already satisfied: six>=1.10.0 in c:\\users\\isscy\\appdata\\local\\continuum\\anaconda3\\lib\\site-packages (from tweepy) (1.11.0)\n",
      "Requirement already satisfied: requests>=2.11.1 in c:\\users\\isscy\\appdata\\local\\continuum\\anaconda3\\lib\\site-packages (from tweepy) (2.18.4)\n",
      "Requirement already satisfied: PySocks>=1.5.7 in c:\\users\\isscy\\appdata\\local\\continuum\\anaconda3\\lib\\site-packages (from tweepy) (1.6.8)\n",
      "Collecting oauthlib>=0.6.2 (from requests-oauthlib>=0.7.0->tweepy)\n",
      "  Downloading https://files.pythonhosted.org/packages/e6/d1/ddd9cfea3e736399b97ded5c2dd62d1322adef4a72d816f1ed1049d6a179/oauthlib-2.1.0-py2.py3-none-any.whl (121kB)\n",
      "Requirement already satisfied: chardet<3.1.0,>=3.0.2 in c:\\users\\isscy\\appdata\\local\\continuum\\anaconda3\\lib\\site-packages (from requests>=2.11.1->tweepy) (3.0.4)\n",
      "Requirement already satisfied: idna<2.7,>=2.5 in c:\\users\\isscy\\appdata\\local\\continuum\\anaconda3\\lib\\site-packages (from requests>=2.11.1->tweepy) (2.6)\n",
      "Requirement already satisfied: urllib3<1.23,>=1.21.1 in c:\\users\\isscy\\appdata\\local\\continuum\\anaconda3\\lib\\site-packages (from requests>=2.11.1->tweepy) (1.22)\n",
      "Requirement already satisfied: certifi>=2017.4.17 in c:\\users\\isscy\\appdata\\local\\continuum\\anaconda3\\lib\\site-packages (from requests>=2.11.1->tweepy) (2018.4.16)\n",
      "Installing collected packages: oauthlib, requests-oauthlib, tweepy\n",
      "Successfully installed oauthlib-2.1.0 requests-oauthlib-1.0.0 tweepy-3.6.0\n"
     ]
    }
   ],
   "source": [
    "#!pip install tweepy"
   ]
  },
  {
   "cell_type": "code",
   "execution_count": 2,
   "metadata": {},
   "outputs": [],
   "source": [
    "import tweepy\n",
    "import json"
   ]
  },
  {
   "cell_type": "code",
   "execution_count": 3,
   "metadata": {
    "collapsed": true
   },
   "outputs": [],
   "source": [
    "consumer_key = 'g074ULMtNdKA15HvtB4dVyqqS'\n",
    "consumer_secret = '3Xawpfn85QlYikuydVB76PsYVZmW0llwiu0w9RBp5NXQYLVdgn'\n",
    "access_token = '2223279979-9BLIrO0pQE5oxOOvesZ4Rkiqc3amOBkvU8RQzpf'\n",
    "access_token_secret = 'iZUUtzMF6M2lQWuRKllDuTnZuhRV7GQvYm25Jn94cH5mE'\n",
    "auth = tweepy.OAuthHandler(consumer_key, consumer_secret)\n",
    "auth.set_access_token(access_token, access_token_secret)"
   ]
  },
  {
   "cell_type": "code",
   "execution_count": 8,
   "metadata": {
    "collapsed": true
   },
   "outputs": [],
   "source": [
    "class MyStreamListener(tweepy.StreamListener):\n",
    "    def __init__(self, api=None):\n",
    "        super(MyStreamListener, self).__init__()\n",
    "        self.num_tweets = 0\n",
    "        self.file = open(\"tweets.txt\", \"w\")\n",
    "\n",
    "    def on_status(self, status):\n",
    "        tweet = status._json\n",
    "        print(self.num_tweets)\n",
    "        print(tweet)\n",
    "        self.file.write(json.dumps(tweet) + '\\n' )\n",
    "        self.num_tweets += 1\n",
    "        if self.num_tweets < 10:\n",
    "            return True\n",
    "        else:\n",
    "            return False\n",
    "        self.file.close()\n",
    "\n",
    "    def on_error(self, status):\n",
    "        print(status)"
   ]
  },
  {
   "cell_type": "code",
   "execution_count": 9,
   "metadata": {
    "scrolled": true
   },
   "outputs": [
    {
     "name": "stdout",
     "output_type": "stream",
     "text": [
      "420\n",
      "420\n",
      "0\n",
      "{'created_at': 'Thu Sep 06 11:38:33 +0000 2018', 'id': 1037666357007998981, 'id_str': '1037666357007998981', 'text': 'The Phoenix Suns should play to win the game - National Basketball Association News - https://t.co/1EvzwYcw1b https://t.co/AryYPyqwKC', 'display_text_range': [0, 109], 'source': '<a href=\"http://nbanewsnow.com\" rel=\"nofollow\">WMLcloud</a>', 'truncated': False, 'in_reply_to_status_id': None, 'in_reply_to_status_id_str': None, 'in_reply_to_user_id': None, 'in_reply_to_user_id_str': None, 'in_reply_to_screen_name': None, 'user': {'id': 259262745, 'id_str': '259262745', 'name': 'NBA News Now', 'screen_name': 'NBANewsNow247', 'location': 'United States', 'url': 'http://nbanewsnow.com', 'description': 'Our site automatically grabs the latest NBA News from a number of sources. We are NOT responsible for article content', 'translator_type': 'none', 'protected': False, 'verified': False, 'followers_count': 1869, 'friends_count': 3195, 'listed_count': 11, 'favourites_count': 31, 'statuses_count': 61888, 'created_at': 'Tue Mar 01 14:03:31 +0000 2011', 'utc_offset': None, 'time_zone': None, 'geo_enabled': False, 'lang': 'en', 'contributors_enabled': False, 'is_translator': False, 'profile_background_color': 'C0DEED', 'profile_background_image_url': 'http://abs.twimg.com/images/themes/theme1/bg.png', 'profile_background_image_url_https': 'https://abs.twimg.com/images/themes/theme1/bg.png', 'profile_background_tile': False, 'profile_link_color': '1DA1F2', 'profile_sidebar_border_color': 'C0DEED', 'profile_sidebar_fill_color': 'DDEEF6', 'profile_text_color': '333333', 'profile_use_background_image': True, 'profile_image_url': 'http://pbs.twimg.com/profile_images/982094318650310657/J2ruUXND_normal.jpg', 'profile_image_url_https': 'https://pbs.twimg.com/profile_images/982094318650310657/J2ruUXND_normal.jpg', 'default_profile': True, 'default_profile_image': False, 'following': None, 'follow_request_sent': None, 'notifications': None}, 'geo': None, 'coordinates': None, 'place': None, 'contributors': None, 'is_quote_status': False, 'quote_count': 0, 'reply_count': 0, 'retweet_count': 0, 'favorite_count': 0, 'entities': {'hashtags': [], 'urls': [{'url': 'https://t.co/1EvzwYcw1b', 'expanded_url': 'http://nbanewsnow.com/the-phoenix-suns-should-play-to-win-the-game-national-basketball-association-news/', 'display_url': 'nbanewsnow.com/the-phoenix-su…', 'indices': [86, 109]}], 'user_mentions': [], 'symbols': [], 'media': [{'id': 1037666353002364928, 'id_str': '1037666353002364928', 'indices': [110, 133], 'media_url': 'http://pbs.twimg.com/media/DmaIDN4UwAAlUMc.jpg', 'media_url_https': 'https://pbs.twimg.com/media/DmaIDN4UwAAlUMc.jpg', 'url': 'https://t.co/AryYPyqwKC', 'display_url': 'pic.twitter.com/AryYPyqwKC', 'expanded_url': 'https://twitter.com/NBANewsNow247/status/1037666357007998981/photo/1', 'type': 'photo', 'sizes': {'small': {'w': 680, 'h': 453, 'resize': 'fit'}, 'thumb': {'w': 150, 'h': 150, 'resize': 'crop'}, 'large': {'w': 2048, 'h': 1365, 'resize': 'fit'}, 'medium': {'w': 1200, 'h': 800, 'resize': 'fit'}}}]}, 'extended_entities': {'media': [{'id': 1037666353002364928, 'id_str': '1037666353002364928', 'indices': [110, 133], 'media_url': 'http://pbs.twimg.com/media/DmaIDN4UwAAlUMc.jpg', 'media_url_https': 'https://pbs.twimg.com/media/DmaIDN4UwAAlUMc.jpg', 'url': 'https://t.co/AryYPyqwKC', 'display_url': 'pic.twitter.com/AryYPyqwKC', 'expanded_url': 'https://twitter.com/NBANewsNow247/status/1037666357007998981/photo/1', 'type': 'photo', 'sizes': {'small': {'w': 680, 'h': 453, 'resize': 'fit'}, 'thumb': {'w': 150, 'h': 150, 'resize': 'crop'}, 'large': {'w': 2048, 'h': 1365, 'resize': 'fit'}, 'medium': {'w': 1200, 'h': 800, 'resize': 'fit'}}}]}, 'favorited': False, 'retweeted': False, 'possibly_sensitive': False, 'filter_level': 'low', 'lang': 'en', 'timestamp_ms': '1536233913076'}\n",
      "1\n",
      "{'created_at': 'Thu Sep 06 11:38:35 +0000 2018', 'id': 1037666367204470786, 'id_str': '1037666367204470786', 'text': 'The second winningest HS GBB coach in Indiana shown the door.  Pretty sad deal..  West Side girls basketball coach… https://t.co/51uZ7ErSRZ', 'source': '<a href=\"http://twitter.com\" rel=\"nofollow\">Twitter Web Client</a>', 'truncated': True, 'in_reply_to_status_id': None, 'in_reply_to_status_id_str': None, 'in_reply_to_user_id': None, 'in_reply_to_user_id_str': None, 'in_reply_to_screen_name': None, 'user': {'id': 845123045240979456, 'id_str': '845123045240979456', 'name': 'Follow the Rock', 'screen_name': 'Follow_The_Rock', 'location': 'United States', 'url': 'http://www.followtherock.com', 'description': \"MN HS Hoops promoter. Keeper of schedules, scores, & more. A weaker alternative source to HS hoop info. Master of the Retweet, I don't make your news my own.\", 'translator_type': 'none', 'protected': False, 'verified': False, 'followers_count': 2273, 'friends_count': 665, 'listed_count': 5, 'favourites_count': 552, 'statuses_count': 2807, 'created_at': 'Fri Mar 24 04:00:10 +0000 2017', 'utc_offset': None, 'time_zone': None, 'geo_enabled': False, 'lang': 'en', 'contributors_enabled': False, 'is_translator': False, 'profile_background_color': '000000', 'profile_background_image_url': 'http://abs.twimg.com/images/themes/theme1/bg.png', 'profile_background_image_url_https': 'https://abs.twimg.com/images/themes/theme1/bg.png', 'profile_background_tile': False, 'profile_link_color': 'FF691F', 'profile_sidebar_border_color': '000000', 'profile_sidebar_fill_color': '000000', 'profile_text_color': '000000', 'profile_use_background_image': False, 'profile_image_url': 'http://pbs.twimg.com/profile_images/1026172373563727872/RBbTSTAf_normal.jpg', 'profile_image_url_https': 'https://pbs.twimg.com/profile_images/1026172373563727872/RBbTSTAf_normal.jpg', 'profile_banner_url': 'https://pbs.twimg.com/profile_banners/845123045240979456/1533493602', 'default_profile': False, 'default_profile_image': False, 'following': None, 'follow_request_sent': None, 'notifications': None}, 'geo': None, 'coordinates': None, 'place': None, 'contributors': None, 'is_quote_status': False, 'extended_tweet': {'full_text': 'The second winningest HS GBB coach in Indiana shown the door.  Pretty sad deal..  West Side girls basketball coach Rod Fisher ousted after 35 seasons https://t.co/h8L03RAyo4', 'display_text_range': [0, 173], 'entities': {'hashtags': [], 'urls': [{'url': 'https://t.co/h8L03RAyo4', 'expanded_url': 'http://www.chicagotribune.com/suburbs/post-tribune/sports/ct-ptb-spt-girls-basketball-west-side-rod-fisher-st-0906-story.html', 'display_url': 'chicagotribune.com/suburbs/post-t…', 'indices': [150, 173]}], 'user_mentions': [], 'symbols': []}}, 'quote_count': 0, 'reply_count': 0, 'retweet_count': 0, 'favorite_count': 0, 'entities': {'hashtags': [], 'urls': [{'url': 'https://t.co/51uZ7ErSRZ', 'expanded_url': 'https://twitter.com/i/web/status/1037666367204470786', 'display_url': 'twitter.com/i/web/status/1…', 'indices': [116, 139]}], 'user_mentions': [], 'symbols': []}, 'favorited': False, 'retweeted': False, 'possibly_sensitive': False, 'filter_level': 'low', 'lang': 'en', 'timestamp_ms': '1536233915507'}\n",
      "2\n",
      "{'created_at': 'Thu Sep 06 11:38:36 +0000 2018', 'id': 1037666369934950400, 'id_str': '1037666369934950400', 'text': 'RT @PrepHoops: 🚨🚨 ATTENTION HOOPERS 🚨🚨\\n\\nIf you have a passion for the game of basketball and you want to use it as a vehicle to take you ev…', 'source': '<a href=\"http://twitter.com/download/iphone\" rel=\"nofollow\">Twitter for iPhone</a>', 'truncated': False, 'in_reply_to_status_id': None, 'in_reply_to_status_id_str': None, 'in_reply_to_user_id': None, 'in_reply_to_user_id_str': None, 'in_reply_to_screen_name': None, 'user': {'id': 1915562090, 'id_str': '1915562090', 'name': 'JP', 'screen_name': 'JohnPoole_', 'location': 'Greensburg, PA', 'url': None, 'description': 'Just a man on a mission', 'translator_type': 'none', 'protected': False, 'verified': False, 'followers_count': 2138, 'friends_count': 274, 'listed_count': 5, 'favourites_count': 18158, 'statuses_count': 22378, 'created_at': 'Sat Sep 28 22:54:25 +0000 2013', 'utc_offset': None, 'time_zone': None, 'geo_enabled': True, 'lang': 'en', 'contributors_enabled': False, 'is_translator': False, 'profile_background_color': 'C0DEED', 'profile_background_image_url': 'http://abs.twimg.com/images/themes/theme1/bg.png', 'profile_background_image_url_https': 'https://abs.twimg.com/images/themes/theme1/bg.png', 'profile_background_tile': False, 'profile_link_color': '1DA1F2', 'profile_sidebar_border_color': 'C0DEED', 'profile_sidebar_fill_color': 'DDEEF6', 'profile_text_color': '333333', 'profile_use_background_image': True, 'profile_image_url': 'http://pbs.twimg.com/profile_images/814550001808535552/IonjVn4a_normal.jpg', 'profile_image_url_https': 'https://pbs.twimg.com/profile_images/814550001808535552/IonjVn4a_normal.jpg', 'profile_banner_url': 'https://pbs.twimg.com/profile_banners/1915562090/1491567116', 'default_profile': True, 'default_profile_image': False, 'following': None, 'follow_request_sent': None, 'notifications': None}, 'geo': None, 'coordinates': None, 'place': None, 'contributors': None, 'retweeted_status': {'created_at': 'Thu Aug 30 17:09:23 +0000 2018', 'id': 1035212902003826688, 'id_str': '1035212902003826688', 'text': '🚨🚨 ATTENTION HOOPERS 🚨🚨\\n\\nIf you have a passion for the game of basketball and you want to use it as a vehicle to ta… https://t.co/REBRcKXR4J', 'source': '<a href=\"http://twitter.com/download/iphone\" rel=\"nofollow\">Twitter for iPhone</a>', 'truncated': True, 'in_reply_to_status_id': None, 'in_reply_to_status_id_str': None, 'in_reply_to_user_id': None, 'in_reply_to_user_id_str': None, 'in_reply_to_screen_name': None, 'user': {'id': 2735393858, 'id_str': '2735393858', 'name': 'Prep Hoops', 'screen_name': 'PrepHoops', 'location': 'United States', 'url': 'http://www.prephoops.com', 'description': 'The Authority for High School Prospect Recruitment (@PHRecruitMe), Analysis, & Events (@PrepHoopsEvents) || Weekly Podcast @TheRootsJourney', 'translator_type': 'none', 'protected': False, 'verified': False, 'followers_count': 15722, 'friends_count': 4192, 'listed_count': 51, 'favourites_count': 1698, 'statuses_count': 14909, 'created_at': 'Fri Aug 15 20:02:16 +0000 2014', 'utc_offset': None, 'time_zone': None, 'geo_enabled': False, 'lang': 'en', 'contributors_enabled': False, 'is_translator': False, 'profile_background_color': 'C0DEED', 'profile_background_image_url': 'http://abs.twimg.com/images/themes/theme1/bg.png', 'profile_background_image_url_https': 'https://abs.twimg.com/images/themes/theme1/bg.png', 'profile_background_tile': False, 'profile_link_color': '1DA1F2', 'profile_sidebar_border_color': 'C0DEED', 'profile_sidebar_fill_color': 'DDEEF6', 'profile_text_color': '333333', 'profile_use_background_image': True, 'profile_image_url': 'http://pbs.twimg.com/profile_images/741362785418776576/xImXGnf1_normal.jpg', 'profile_image_url_https': 'https://pbs.twimg.com/profile_images/741362785418776576/xImXGnf1_normal.jpg', 'profile_banner_url': 'https://pbs.twimg.com/profile_banners/2735393858/1507136124', 'default_profile': True, 'default_profile_image': False, 'following': None, 'follow_request_sent': None, 'notifications': None}, 'geo': None, 'coordinates': None, 'place': None, 'contributors': None, 'is_quote_status': False, 'extended_tweet': {'full_text': '🚨🚨 ATTENTION HOOPERS 🚨🚨\\n\\nIf you have a passion for the game of basketball and you want to use it as a vehicle to take you everywhere you want to go in life, LISTEN UP to Chris Paul speaking facts 💯⤵️ https://t.co/uGfURK2NKH', 'display_text_range': [0, 223], 'entities': {'hashtags': [], 'urls': [], 'user_mentions': [], 'symbols': [], 'media': [{'id': 1034279676204576768, 'id_str': '1034279676204576768', 'indices': [200, 223], 'additional_media_info': {'monetizable': False}, 'media_url': 'http://pbs.twimg.com/ext_tw_video_thumb/1034279676204576768/pu/img/iMyN7IiV248_uO52.jpg', 'media_url_https': 'https://pbs.twimg.com/ext_tw_video_thumb/1034279676204576768/pu/img/iMyN7IiV248_uO52.jpg', 'url': 'https://t.co/uGfURK2NKH', 'display_url': 'pic.twitter.com/uGfURK2NKH', 'expanded_url': 'https://twitter.com/macktology101/status/1034280029872504832/video/1', 'type': 'video', 'video_info': {'aspect_ratio': [16, 9], 'duration_millis': 140016, 'variants': [{'bitrate': 256000, 'content_type': 'video/mp4', 'url': 'https://video.twimg.com/ext_tw_video/1034279676204576768/pu/vid/320x180/0uYb33Wh0P0fZh6s.mp4?tag=5'}, {'bitrate': 2176000, 'content_type': 'video/mp4', 'url': 'https://video.twimg.com/ext_tw_video/1034279676204576768/pu/vid/1280x720/JuDb-X7W_6_NoHy8.mp4?tag=5'}, {'bitrate': 832000, 'content_type': 'video/mp4', 'url': 'https://video.twimg.com/ext_tw_video/1034279676204576768/pu/vid/640x360/wfzR9Itzm3vbqHus.mp4?tag=5'}, {'content_type': 'application/x-mpegURL', 'url': 'https://video.twimg.com/ext_tw_video/1034279676204576768/pu/pl/5UORlOUQPxQ63Pdi.m3u8?tag=5'}]}, 'sizes': {'thumb': {'w': 150, 'h': 150, 'resize': 'crop'}, 'medium': {'w': 1200, 'h': 675, 'resize': 'fit'}, 'small': {'w': 680, 'h': 383, 'resize': 'fit'}, 'large': {'w': 1280, 'h': 720, 'resize': 'fit'}}, 'source_status_id': 1034280029872504832, 'source_status_id_str': '1034280029872504832', 'source_user_id': 333180887, 'source_user_id_str': '333180887'}]}, 'extended_entities': {'media': [{'id': 1034279676204576768, 'id_str': '1034279676204576768', 'indices': [200, 223], 'additional_media_info': {'monetizable': False}, 'media_url': 'http://pbs.twimg.com/ext_tw_video_thumb/1034279676204576768/pu/img/iMyN7IiV248_uO52.jpg', 'media_url_https': 'https://pbs.twimg.com/ext_tw_video_thumb/1034279676204576768/pu/img/iMyN7IiV248_uO52.jpg', 'url': 'https://t.co/uGfURK2NKH', 'display_url': 'pic.twitter.com/uGfURK2NKH', 'expanded_url': 'https://twitter.com/macktology101/status/1034280029872504832/video/1', 'type': 'video', 'video_info': {'aspect_ratio': [16, 9], 'duration_millis': 140016, 'variants': [{'bitrate': 256000, 'content_type': 'video/mp4', 'url': 'https://video.twimg.com/ext_tw_video/1034279676204576768/pu/vid/320x180/0uYb33Wh0P0fZh6s.mp4?tag=5'}, {'bitrate': 2176000, 'content_type': 'video/mp4', 'url': 'https://video.twimg.com/ext_tw_video/1034279676204576768/pu/vid/1280x720/JuDb-X7W_6_NoHy8.mp4?tag=5'}, {'bitrate': 832000, 'content_type': 'video/mp4', 'url': 'https://video.twimg.com/ext_tw_video/1034279676204576768/pu/vid/640x360/wfzR9Itzm3vbqHus.mp4?tag=5'}, {'content_type': 'application/x-mpegURL', 'url': 'https://video.twimg.com/ext_tw_video/1034279676204576768/pu/pl/5UORlOUQPxQ63Pdi.m3u8?tag=5'}]}, 'sizes': {'thumb': {'w': 150, 'h': 150, 'resize': 'crop'}, 'medium': {'w': 1200, 'h': 675, 'resize': 'fit'}, 'small': {'w': 680, 'h': 383, 'resize': 'fit'}, 'large': {'w': 1280, 'h': 720, 'resize': 'fit'}}, 'source_status_id': 1034280029872504832, 'source_status_id_str': '1034280029872504832', 'source_user_id': 333180887, 'source_user_id_str': '333180887'}]}}, 'quote_count': 18, 'reply_count': 0, 'retweet_count': 134, 'favorite_count': 373, 'entities': {'hashtags': [], 'urls': [{'url': 'https://t.co/REBRcKXR4J', 'expanded_url': 'https://twitter.com/i/web/status/1035212902003826688', 'display_url': 'twitter.com/i/web/status/1…', 'indices': [117, 140]}], 'user_mentions': [], 'symbols': []}, 'favorited': False, 'retweeted': False, 'possibly_sensitive': False, 'filter_level': 'low', 'lang': 'en'}, 'is_quote_status': False, 'quote_count': 0, 'reply_count': 0, 'retweet_count': 0, 'favorite_count': 0, 'entities': {'hashtags': [], 'urls': [], 'user_mentions': [{'screen_name': 'PrepHoops', 'name': 'Prep Hoops', 'id': 2735393858, 'id_str': '2735393858', 'indices': [3, 13]}], 'symbols': []}, 'favorited': False, 'retweeted': False, 'filter_level': 'low', 'lang': 'en', 'timestamp_ms': '1536233916158'}\n"
     ]
    },
    {
     "name": "stdout",
     "output_type": "stream",
     "text": [
      "3\n",
      "{'created_at': 'Thu Sep 06 11:38:38 +0000 2018', 'id': 1037666378461925376, 'id_str': '1037666378461925376', 'text': 'can sm stop fucking around and let them perform with the basketball outfits already', 'source': '<a href=\"http://twitter.com/download/iphone\" rel=\"nofollow\">Twitter for iPhone</a>', 'truncated': False, 'in_reply_to_status_id': None, 'in_reply_to_status_id_str': None, 'in_reply_to_user_id': None, 'in_reply_to_user_id_str': None, 'in_reply_to_screen_name': None, 'user': {'id': 1926987030, 'id_str': '1926987030', 'name': 'nova 🏳️\\u200d🌈', 'screen_name': 'fuIlsunhyuck', 'location': '(they/them)', 'url': None, 'description': 'yeah i’m a taeyong thot keep scrolling', 'translator_type': 'none', 'protected': False, 'verified': False, 'followers_count': 337, 'friends_count': 72, 'listed_count': 8, 'favourites_count': 36712, 'statuses_count': 61831, 'created_at': 'Wed Oct 02 14:19:58 +0000 2013', 'utc_offset': None, 'time_zone': None, 'geo_enabled': False, 'lang': 'en', 'contributors_enabled': False, 'is_translator': False, 'profile_background_color': 'C87C5B', 'profile_background_image_url': 'http://abs.twimg.com/images/themes/theme1/bg.png', 'profile_background_image_url_https': 'https://abs.twimg.com/images/themes/theme1/bg.png', 'profile_background_tile': True, 'profile_link_color': 'ABB8C2', 'profile_sidebar_border_color': 'FFFFFF', 'profile_sidebar_fill_color': 'DDEEF6', 'profile_text_color': '333333', 'profile_use_background_image': True, 'profile_image_url': 'http://pbs.twimg.com/profile_images/1036901176715960320/4m185RTE_normal.jpg', 'profile_image_url_https': 'https://pbs.twimg.com/profile_images/1036901176715960320/4m185RTE_normal.jpg', 'profile_banner_url': 'https://pbs.twimg.com/profile_banners/1926987030/1522955731', 'default_profile': False, 'default_profile_image': False, 'following': None, 'follow_request_sent': None, 'notifications': None}, 'geo': None, 'coordinates': None, 'place': None, 'contributors': None, 'is_quote_status': False, 'quote_count': 0, 'reply_count': 0, 'retweet_count': 0, 'favorite_count': 0, 'entities': {'hashtags': [], 'urls': [], 'user_mentions': [], 'symbols': []}, 'favorited': False, 'retweeted': False, 'filter_level': 'low', 'lang': 'en', 'timestamp_ms': '1536233918191'}\n",
      "4\n",
      "{'created_at': 'Thu Sep 06 11:38:42 +0000 2018', 'id': 1037666397650919424, 'id_str': '1037666397650919424', 'text': '!!!', 'source': '<a href=\"https://twitterrific.com/ios\" rel=\"nofollow\">Twitterrific for iOS</a>', 'truncated': False, 'in_reply_to_status_id': None, 'in_reply_to_status_id_str': None, 'in_reply_to_user_id': None, 'in_reply_to_user_id_str': None, 'in_reply_to_screen_name': None, 'user': {'id': 63306399, 'id_str': '63306399', 'name': 'Anthony Nelson', 'screen_name': 'antnelson31', 'location': None, 'url': None, 'description': 'chillin', 'translator_type': 'none', 'protected': False, 'verified': False, 'followers_count': 694, 'friends_count': 367, 'listed_count': 11, 'favourites_count': 3, 'statuses_count': 42829, 'created_at': 'Thu Aug 06 00:13:28 +0000 2009', 'utc_offset': None, 'time_zone': None, 'geo_enabled': False, 'lang': 'en', 'contributors_enabled': False, 'is_translator': False, 'profile_background_color': '131516', 'profile_background_image_url': 'http://abs.twimg.com/images/themes/theme14/bg.gif', 'profile_background_image_url_https': 'https://abs.twimg.com/images/themes/theme14/bg.gif', 'profile_background_tile': True, 'profile_link_color': '009999', 'profile_sidebar_border_color': 'EEEEEE', 'profile_sidebar_fill_color': 'EFEFEF', 'profile_text_color': '333333', 'profile_use_background_image': True, 'profile_image_url': 'http://pbs.twimg.com/profile_images/809886787061616640/ffUv95y2_normal.jpg', 'profile_image_url_https': 'https://pbs.twimg.com/profile_images/809886787061616640/ffUv95y2_normal.jpg', 'default_profile': False, 'default_profile_image': False, 'following': None, 'follow_request_sent': None, 'notifications': None}, 'geo': None, 'coordinates': None, 'place': None, 'contributors': None, 'quoted_status_id': 1037552155165507584, 'quoted_status_id_str': '1037552155165507584', 'quoted_status': {'created_at': 'Thu Sep 06 04:04:45 +0000 2018', 'id': 1037552155165507584, 'id_str': '1037552155165507584', 'text': \"I can't wait until the basketball video sites start showing players who score in multiple ways! Cuts, pin downs, fl… https://t.co/01FjMRre7C\", 'source': '<a href=\"http://twitter.com/download/iphone\" rel=\"nofollow\">Twitter for iPhone</a>', 'truncated': True, 'in_reply_to_status_id': None, 'in_reply_to_status_id_str': None, 'in_reply_to_user_id': None, 'in_reply_to_user_id_str': None, 'in_reply_to_screen_name': None, 'user': {'id': 68354769, 'id_str': '68354769', 'name': 'tremmell darden', 'screen_name': 'tremenduz', 'location': None, 'url': None, 'description': \"When LOVE is the motivation, success is the destination! Working to have an impact in Jesus' name!\", 'translator_type': 'none', 'protected': False, 'verified': True, 'followers_count': 13719, 'friends_count': 366, 'listed_count': 154, 'favourites_count': 180, 'statuses_count': 26854, 'created_at': 'Mon Aug 24 07:39:42 +0000 2009', 'utc_offset': None, 'time_zone': None, 'geo_enabled': True, 'lang': 'en', 'contributors_enabled': False, 'is_translator': False, 'profile_background_color': 'C0DEED', 'profile_background_image_url': 'http://abs.twimg.com/images/themes/theme1/bg.png', 'profile_background_image_url_https': 'https://abs.twimg.com/images/themes/theme1/bg.png', 'profile_background_tile': True, 'profile_link_color': '0084B4', 'profile_sidebar_border_color': 'C0DEED', 'profile_sidebar_fill_color': 'DDEEF6', 'profile_text_color': '333333', 'profile_use_background_image': True, 'profile_image_url': 'http://pbs.twimg.com/profile_images/990321463789006848/Mrouj725_normal.jpg', 'profile_image_url_https': 'https://pbs.twimg.com/profile_images/990321463789006848/Mrouj725_normal.jpg', 'profile_banner_url': 'https://pbs.twimg.com/profile_banners/68354769/1443165808', 'default_profile': False, 'default_profile_image': False, 'following': None, 'follow_request_sent': None, 'notifications': None}, 'geo': None, 'coordinates': None, 'place': {'id': '5c2b5e46ab891f07', 'url': 'https://api.twitter.com/1.1/geo/id/5c2b5e46ab891f07.json', 'place_type': 'city', 'name': 'Las Vegas', 'full_name': 'Las Vegas, NV', 'country_code': 'US', 'country': 'United States', 'bounding_box': {'type': 'Polygon', 'coordinates': [[[-115.384091, 36.129459], [-115.384091, 36.336371], [-115.062159, 36.336371], [-115.062159, 36.129459]]]}, 'attributes': {}}, 'contributors': None, 'is_quote_status': False, 'extended_tweet': {'full_text': \"I can't wait until the basketball video sites start showing players who score in multiple ways! Cuts, pin downs, flairs not just doing moves with the ball in their hands. Scoring in multiple makes you unstoppable.\", 'display_text_range': [0, 213], 'entities': {'hashtags': [], 'urls': [], 'user_mentions': [], 'symbols': []}}, 'quote_count': 0, 'reply_count': 0, 'retweet_count': 0, 'favorite_count': 2, 'entities': {'hashtags': [], 'urls': [{'url': 'https://t.co/01FjMRre7C', 'expanded_url': 'https://twitter.com/i/web/status/1037552155165507584', 'display_url': 'twitter.com/i/web/status/1…', 'indices': [117, 140]}], 'user_mentions': [], 'symbols': []}, 'favorited': False, 'retweeted': False, 'filter_level': 'low', 'lang': 'en'}, 'quoted_status_permalink': {'url': 'https://t.co/pWRGHkXLWr', 'expanded': 'https://twitter.com/tremenduz/status/1037552155165507584', 'display': 'twitter.com/tremenduz/stat…'}, 'is_quote_status': True, 'quote_count': 0, 'reply_count': 0, 'retweet_count': 0, 'favorite_count': 0, 'entities': {'hashtags': [], 'urls': [], 'user_mentions': [], 'symbols': []}, 'favorited': False, 'retweeted': False, 'filter_level': 'low', 'lang': 'und', 'timestamp_ms': '1536233922766'}\n",
      "5\n",
      "{'created_at': 'Thu Sep 06 11:38:43 +0000 2018', 'id': 1037666398888124416, 'id_str': '1037666398888124416', 'text': '【オンライン更新情報】\\nUNK NBA Half Court Tank\\u3000ボストン・セルティックス\\n3,500円(税別)\\nhttps://t.co/415SBj0BKi\\n\\n#UNK #アンク #nba #basketball… https://t.co/Bjr8ntFAK2', 'display_text_range': [0, 140], 'source': '<a href=\"http://twitter.com\" rel=\"nofollow\">Twitter Web Client</a>', 'truncated': True, 'in_reply_to_status_id': None, 'in_reply_to_status_id_str': None, 'in_reply_to_user_id': None, 'in_reply_to_user_id_str': None, 'in_reply_to_screen_name': None, 'user': {'id': 82567221, 'id_str': '82567221', 'name': 'SLAM', 'screen_name': 'SLAMJAPAN', 'location': '玉川学園店 & さいたま店 & 那覇店', 'url': None, 'description': '玉川学園店(042-721-5899) & さいたま店(048-826-5899) & 那覇店(098-853-3699)\\u3000着用すればみんなK1X戦士、そしてみんなK1Xファミリー！  通販でもサイズ交換ＯＫ 完全オリジナルユニフォーム8000円\\u3000SLAMオンライン→ http://www.slamjapan.com/', 'translator_type': 'none', 'protected': False, 'verified': False, 'followers_count': 4558, 'friends_count': 1762, 'listed_count': 146, 'favourites_count': 52, 'statuses_count': 3101, 'created_at': 'Thu Oct 15 08:04:05 +0000 2009', 'utc_offset': None, 'time_zone': None, 'geo_enabled': False, 'lang': 'ja', 'contributors_enabled': False, 'is_translator': False, 'profile_background_color': 'FFFFFF', 'profile_background_image_url': 'http://abs.twimg.com/images/themes/theme12/bg.gif', 'profile_background_image_url_https': 'https://abs.twimg.com/images/themes/theme12/bg.gif', 'profile_background_tile': True, 'profile_link_color': '047800', 'profile_sidebar_border_color': 'FFFFFF', 'profile_sidebar_fill_color': '2DAFF0', 'profile_text_color': '1A1E91', 'profile_use_background_image': True, 'profile_image_url': 'http://pbs.twimg.com/profile_images/721157946999050240/PlSRvrus_normal.jpg', 'profile_image_url_https': 'https://pbs.twimg.com/profile_images/721157946999050240/PlSRvrus_normal.jpg', 'profile_banner_url': 'https://pbs.twimg.com/profile_banners/82567221/1465940083', 'default_profile': False, 'default_profile_image': False, 'following': None, 'follow_request_sent': None, 'notifications': None}, 'geo': None, 'coordinates': None, 'place': None, 'contributors': None, 'is_quote_status': False, 'extended_tweet': {'full_text': '【オンライン更新情報】\\nUNK NBA Half Court Tank\\u3000ボストン・セルティックス\\n3,500円(税別)\\nhttps://t.co/415SBj0BKi\\n\\n#UNK #アンク #nba #basketball #バスケ #Tシャツ #boston #celtics #セルティックス #Irving #カイリー・アービング #公式NBAライセンス商品 https://t.co/TzscFHGYkZ', 'display_text_range': [0, 182], 'entities': {'hashtags': [{'text': 'UNK', 'indices': [85, 89]}, {'text': 'アンク', 'indices': [90, 94]}, {'text': 'nba', 'indices': [95, 99]}, {'text': 'basketball', 'indices': [100, 111]}, {'text': 'バスケ', 'indices': [112, 116]}, {'text': 'Tシャツ', 'indices': [117, 122]}, {'text': 'boston', 'indices': [123, 130]}, {'text': 'celtics', 'indices': [131, 139]}, {'text': 'セルティックス', 'indices': [140, 148]}, {'text': 'Irving', 'indices': [149, 156]}, {'text': 'カイリー・アービング', 'indices': [157, 168]}, {'text': '公式NBAライセンス商品', 'indices': [169, 182]}], 'urls': [{'url': 'https://t.co/415SBj0BKi', 'expanded_url': 'http://www.slamjapan.com/fs/main/20985', 'display_url': 'slamjapan.com/fs/main/20985', 'indices': [60, 83]}], 'user_mentions': [], 'symbols': [], 'media': [{'id': 1037666384291889152, 'id_str': '1037666384291889152', 'indices': [183, 206], 'media_url': 'http://pbs.twimg.com/media/DmaIFCcVAAAEBDI.jpg', 'media_url_https': 'https://pbs.twimg.com/media/DmaIFCcVAAAEBDI.jpg', 'url': 'https://t.co/TzscFHGYkZ', 'display_url': 'pic.twitter.com/TzscFHGYkZ', 'expanded_url': 'https://twitter.com/SLAMJAPAN/status/1037666398888124416/photo/1', 'type': 'photo', 'sizes': {'thumb': {'w': 150, 'h': 150, 'resize': 'crop'}, 'medium': {'w': 425, 'h': 480, 'resize': 'fit'}, 'large': {'w': 425, 'h': 480, 'resize': 'fit'}, 'small': {'w': 425, 'h': 480, 'resize': 'fit'}}}]}, 'extended_entities': {'media': [{'id': 1037666384291889152, 'id_str': '1037666384291889152', 'indices': [183, 206], 'media_url': 'http://pbs.twimg.com/media/DmaIFCcVAAAEBDI.jpg', 'media_url_https': 'https://pbs.twimg.com/media/DmaIFCcVAAAEBDI.jpg', 'url': 'https://t.co/TzscFHGYkZ', 'display_url': 'pic.twitter.com/TzscFHGYkZ', 'expanded_url': 'https://twitter.com/SLAMJAPAN/status/1037666398888124416/photo/1', 'type': 'photo', 'sizes': {'thumb': {'w': 150, 'h': 150, 'resize': 'crop'}, 'medium': {'w': 425, 'h': 480, 'resize': 'fit'}, 'large': {'w': 425, 'h': 480, 'resize': 'fit'}, 'small': {'w': 425, 'h': 480, 'resize': 'fit'}}}]}}, 'quote_count': 0, 'reply_count': 0, 'retweet_count': 0, 'favorite_count': 0, 'entities': {'hashtags': [{'text': 'UNK', 'indices': [85, 89]}, {'text': 'アンク', 'indices': [90, 94]}, {'text': 'nba', 'indices': [95, 99]}, {'text': 'basketball', 'indices': [100, 111]}], 'urls': [{'url': 'https://t.co/415SBj0BKi', 'expanded_url': 'http://www.slamjapan.com/fs/main/20985', 'display_url': 'slamjapan.com/fs/main/20985', 'indices': [60, 83]}, {'url': 'https://t.co/Bjr8ntFAK2', 'expanded_url': 'https://twitter.com/i/web/status/1037666398888124416', 'display_url': 'twitter.com/i/web/status/1…', 'indices': [113, 136]}], 'user_mentions': [], 'symbols': []}, 'favorited': False, 'retweeted': False, 'possibly_sensitive': False, 'filter_level': 'low', 'lang': 'ja', 'timestamp_ms': '1536233923061'}\n"
     ]
    },
    {
     "name": "stdout",
     "output_type": "stream",
     "text": [
      "6\n",
      "{'created_at': 'Thu Sep 06 11:38:47 +0000 2018', 'id': 1037666418014085121, 'id_str': '1037666418014085121', 'text': 'RT @Chiseled_Scott: 🌴  Industry guidelines require you to have played ball prior to coaching. My additional basketball coaching experience…', 'source': '<a href=\"http://twitter.com\" rel=\"nofollow\">Twitter Web Client</a>', 'truncated': False, 'in_reply_to_status_id': None, 'in_reply_to_status_id_str': None, 'in_reply_to_user_id': None, 'in_reply_to_user_id_str': None, 'in_reply_to_screen_name': None, 'user': {'id': 96848521, 'id_str': '96848521', 'name': 'Scott Davis', 'screen_name': 'Chiseled_Scott', 'location': 'Pacific Northwest ~ California', 'url': 'http://www.facebook.com/jscottdavis.usa', 'description': 'JOB WANTED: Intercollegiate Head Basketball Coach ~ Played College and High School Basketball, College Swimming; Former Active U.S. Navy ~ Bachelor of Science.', 'translator_type': 'none', 'protected': False, 'verified': False, 'followers_count': 5666, 'friends_count': 6175, 'listed_count': 348, 'favourites_count': 1551, 'statuses_count': 71221, 'created_at': 'Mon Dec 14 21:50:30 +0000 2009', 'utc_offset': None, 'time_zone': None, 'geo_enabled': False, 'lang': 'en', 'contributors_enabled': False, 'is_translator': False, 'profile_background_color': 'ACDED6', 'profile_background_image_url': 'http://abs.twimg.com/images/themes/theme18/bg.gif', 'profile_background_image_url_https': 'https://abs.twimg.com/images/themes/theme18/bg.gif', 'profile_background_tile': False, 'profile_link_color': '038543', 'profile_sidebar_border_color': 'EEEEEE', 'profile_sidebar_fill_color': 'F6F6F6', 'profile_text_color': '333333', 'profile_use_background_image': True, 'profile_image_url': 'http://pbs.twimg.com/profile_images/941457356587765761/dwybqLKB_normal.jpg', 'profile_image_url_https': 'https://pbs.twimg.com/profile_images/941457356587765761/dwybqLKB_normal.jpg', 'profile_banner_url': 'https://pbs.twimg.com/profile_banners/96848521/1513296414', 'default_profile': False, 'default_profile_image': False, 'following': None, 'follow_request_sent': None, 'notifications': None}, 'geo': None, 'coordinates': None, 'place': None, 'contributors': None, 'retweeted_status': {'created_at': 'Sun Sep 02 12:47:28 +0000 2018', 'id': 1036234151916007424, 'id_str': '1036234151916007424', 'text': '🌴  Industry guidelines require you to have played ball prior to coaching. My additional basketball coaching experie… https://t.co/KykE0fAoyu', 'display_text_range': [0, 140], 'source': '<a href=\"http://twitter.com\" rel=\"nofollow\">Twitter Web Client</a>', 'truncated': True, 'in_reply_to_status_id': None, 'in_reply_to_status_id_str': None, 'in_reply_to_user_id': None, 'in_reply_to_user_id_str': None, 'in_reply_to_screen_name': None, 'user': {'id': 96848521, 'id_str': '96848521', 'name': 'Scott Davis', 'screen_name': 'Chiseled_Scott', 'location': 'Pacific Northwest ~ California', 'url': 'http://www.facebook.com/jscottdavis.usa', 'description': 'JOB WANTED: Intercollegiate Head Basketball Coach ~ Played College and High School Basketball, College Swimming; Former Active U.S. Navy ~ Bachelor of Science.', 'translator_type': 'none', 'protected': False, 'verified': False, 'followers_count': 5666, 'friends_count': 6175, 'listed_count': 348, 'favourites_count': 1551, 'statuses_count': 71220, 'created_at': 'Mon Dec 14 21:50:30 +0000 2009', 'utc_offset': None, 'time_zone': None, 'geo_enabled': False, 'lang': 'en', 'contributors_enabled': False, 'is_translator': False, 'profile_background_color': 'ACDED6', 'profile_background_image_url': 'http://abs.twimg.com/images/themes/theme18/bg.gif', 'profile_background_image_url_https': 'https://abs.twimg.com/images/themes/theme18/bg.gif', 'profile_background_tile': False, 'profile_link_color': '038543', 'profile_sidebar_border_color': 'EEEEEE', 'profile_sidebar_fill_color': 'F6F6F6', 'profile_text_color': '333333', 'profile_use_background_image': True, 'profile_image_url': 'http://pbs.twimg.com/profile_images/941457356587765761/dwybqLKB_normal.jpg', 'profile_image_url_https': 'https://pbs.twimg.com/profile_images/941457356587765761/dwybqLKB_normal.jpg', 'profile_banner_url': 'https://pbs.twimg.com/profile_banners/96848521/1513296414', 'default_profile': False, 'default_profile_image': False, 'following': None, 'follow_request_sent': None, 'notifications': None}, 'geo': None, 'coordinates': None, 'place': None, 'contributors': None, 'is_quote_status': False, 'extended_tweet': {'full_text': '🌴  Industry guidelines require you to have played ball prior to coaching. My additional basketball coaching experience includes \"PRO-Act Basketball Coach Training\". I played for jr. high, high school, college and YMCA teams. Played in 2-on-2 tournaments. #IndustryStandards https://t.co/Ug1l8muYXv', 'display_text_range': [0, 273], 'entities': {'hashtags': [{'text': 'IndustryStandards', 'indices': [255, 273]}], 'urls': [], 'user_mentions': [], 'symbols': [], 'media': [{'id': 1036234136623570946, 'id_str': '1036234136623570946', 'indices': [274, 297], 'media_url': 'http://pbs.twimg.com/media/DmFxdQGU4AIFnnV.jpg', 'media_url_https': 'https://pbs.twimg.com/media/DmFxdQGU4AIFnnV.jpg', 'url': 'https://t.co/Ug1l8muYXv', 'display_url': 'pic.twitter.com/Ug1l8muYXv', 'expanded_url': 'https://twitter.com/Chiseled_Scott/status/1036234151916007424/photo/1', 'type': 'photo', 'sizes': {'medium': {'w': 680, 'h': 525, 'resize': 'fit'}, 'thumb': {'w': 150, 'h': 150, 'resize': 'crop'}, 'large': {'w': 680, 'h': 525, 'resize': 'fit'}, 'small': {'w': 680, 'h': 525, 'resize': 'fit'}}}]}, 'extended_entities': {'media': [{'id': 1036234136623570946, 'id_str': '1036234136623570946', 'indices': [274, 297], 'media_url': 'http://pbs.twimg.com/media/DmFxdQGU4AIFnnV.jpg', 'media_url_https': 'https://pbs.twimg.com/media/DmFxdQGU4AIFnnV.jpg', 'url': 'https://t.co/Ug1l8muYXv', 'display_url': 'pic.twitter.com/Ug1l8muYXv', 'expanded_url': 'https://twitter.com/Chiseled_Scott/status/1036234151916007424/photo/1', 'type': 'photo', 'sizes': {'medium': {'w': 680, 'h': 525, 'resize': 'fit'}, 'thumb': {'w': 150, 'h': 150, 'resize': 'crop'}, 'large': {'w': 680, 'h': 525, 'resize': 'fit'}, 'small': {'w': 680, 'h': 525, 'resize': 'fit'}}}]}}, 'quote_count': 0, 'reply_count': 0, 'retweet_count': 1, 'favorite_count': 0, 'entities': {'hashtags': [], 'urls': [{'url': 'https://t.co/KykE0fAoyu', 'expanded_url': 'https://twitter.com/i/web/status/1036234151916007424', 'display_url': 'twitter.com/i/web/status/1…', 'indices': [117, 140]}], 'user_mentions': [], 'symbols': []}, 'favorited': False, 'retweeted': False, 'possibly_sensitive': False, 'filter_level': 'low', 'lang': 'en'}, 'is_quote_status': False, 'quote_count': 0, 'reply_count': 0, 'retweet_count': 0, 'favorite_count': 0, 'entities': {'hashtags': [], 'urls': [], 'user_mentions': [{'screen_name': 'Chiseled_Scott', 'name': 'Scott Davis', 'id': 96848521, 'id_str': '96848521', 'indices': [3, 18]}], 'symbols': []}, 'favorited': False, 'retweeted': False, 'filter_level': 'low', 'lang': 'en', 'timestamp_ms': '1536233927621'}\n",
      "7\n",
      "{'created_at': 'Thu Sep 06 11:38:48 +0000 2018', 'id': 1037666422250463237, 'id_str': '1037666422250463237', 'text': 'RT @hiraidotjpg: the cutest basketball player🏀 https://t.co/rqi9egRjAc', 'source': '<a href=\"http://twitter.com/download/android\" rel=\"nofollow\">Twitter for Android</a>', 'truncated': False, 'in_reply_to_status_id': None, 'in_reply_to_status_id_str': None, 'in_reply_to_user_id': None, 'in_reply_to_user_id_str': None, 'in_reply_to_screen_name': None, 'user': {'id': 980554231622062080, 'id_str': '980554231622062080', 'name': 'Bulbasaur', 'screen_name': 'Jeongyeonieism', 'location': 'Florida', 'url': 'http://instagram.com/JeongyeonieIsMyLife', 'description': \"😍 Literally obsessed\\n☺ I'm kinda cool, and really easy to talk to\\n😂If I don't reply, I'm watching Twice videos\\n👭I ship JeongMo\\n🅱BLINK\\n✊ARMY\\netc.\", 'translator_type': 'none', 'protected': False, 'verified': False, 'followers_count': 313, 'friends_count': 591, 'listed_count': 0, 'favourites_count': 8255, 'statuses_count': 6512, 'created_at': 'Sun Apr 01 21:15:21 +0000 2018', 'utc_offset': None, 'time_zone': None, 'geo_enabled': False, 'lang': 'en', 'contributors_enabled': False, 'is_translator': False, 'profile_background_color': 'F5F8FA', 'profile_background_image_url': '', 'profile_background_image_url_https': '', 'profile_background_tile': False, 'profile_link_color': '1DA1F2', 'profile_sidebar_border_color': 'C0DEED', 'profile_sidebar_fill_color': 'DDEEF6', 'profile_text_color': '333333', 'profile_use_background_image': True, 'profile_image_url': 'http://pbs.twimg.com/profile_images/1026992445182095363/Knrg6iYW_normal.jpg', 'profile_image_url_https': 'https://pbs.twimg.com/profile_images/1026992445182095363/Knrg6iYW_normal.jpg', 'profile_banner_url': 'https://pbs.twimg.com/profile_banners/980554231622062080/1533673901', 'default_profile': True, 'default_profile_image': False, 'following': None, 'follow_request_sent': None, 'notifications': None}, 'geo': None, 'coordinates': None, 'place': None, 'contributors': None, 'retweeted_status': {'created_at': 'Thu Sep 06 10:21:29 +0000 2018', 'id': 1037646964584787968, 'id_str': '1037646964584787968', 'text': 'the cutest basketball player🏀 https://t.co/rqi9egRjAc', 'source': '<a href=\"http://twitter.com/download/iphone\" rel=\"nofollow\">Twitter for iPhone</a>', 'truncated': False, 'in_reply_to_status_id': None, 'in_reply_to_status_id_str': None, 'in_reply_to_user_id': None, 'in_reply_to_user_id_str': None, 'in_reply_to_screen_name': None, 'user': {'id': 831185127636103171, 'id_str': '831185127636103171', 'name': 'momo pics !', 'screen_name': 'hiraidotjpg', 'location': '170213 | ctto ', 'url': 'https://curiouscat.me/hiraipics', 'description': 'fan account where everything is dedicated to our precious #平井もも ♥︎', 'translator_type': 'none', 'protected': False, 'verified': False, 'followers_count': 32737, 'friends_count': 20, 'listed_count': 584, 'favourites_count': 0, 'statuses_count': 2053, 'created_at': 'Mon Feb 13 16:55:51 +0000 2017', 'utc_offset': None, 'time_zone': None, 'geo_enabled': False, 'lang': 'fr', 'contributors_enabled': False, 'is_translator': False, 'profile_background_color': 'F5F8FA', 'profile_background_image_url': '', 'profile_background_image_url_https': '', 'profile_background_tile': False, 'profile_link_color': '1DA1F2', 'profile_sidebar_border_color': 'C0DEED', 'profile_sidebar_fill_color': 'DDEEF6', 'profile_text_color': '333333', 'profile_use_background_image': True, 'profile_image_url': 'http://pbs.twimg.com/profile_images/1028989433293537285/wuQFh_EU_normal.jpg', 'profile_image_url_https': 'https://pbs.twimg.com/profile_images/1028989433293537285/wuQFh_EU_normal.jpg', 'profile_banner_url': 'https://pbs.twimg.com/profile_banners/831185127636103171/1534165174', 'default_profile': True, 'default_profile_image': False, 'following': None, 'follow_request_sent': None, 'notifications': None}, 'geo': None, 'coordinates': None, 'place': None, 'contributors': None, 'is_quote_status': False, 'quote_count': 5, 'reply_count': 1, 'retweet_count': 99, 'favorite_count': 360, 'entities': {'hashtags': [], 'urls': [], 'user_mentions': [], 'symbols': [], 'media': [{'id': 1037491491277496321, 'id_str': '1037491491277496321', 'indices': [30, 53], 'media_url': 'http://pbs.twimg.com/tweet_video_thumb/DmXpA7MV4AERID_.jpg', 'media_url_https': 'https://pbs.twimg.com/tweet_video_thumb/DmXpA7MV4AERID_.jpg', 'url': 'https://t.co/rqi9egRjAc', 'display_url': 'pic.twitter.com/rqi9egRjAc', 'expanded_url': 'https://twitter.com/JMKEY11/status/1037491545182679040/photo/1', 'type': 'photo', 'sizes': {'thumb': {'w': 150, 'h': 150, 'resize': 'crop'}, 'medium': {'w': 500, 'h': 456, 'resize': 'fit'}, 'large': {'w': 500, 'h': 456, 'resize': 'fit'}, 'small': {'w': 500, 'h': 456, 'resize': 'fit'}}, 'source_status_id': 1037491545182679040, 'source_status_id_str': '1037491545182679040', 'source_user_id': 827226687062503424, 'source_user_id_str': '827226687062503424'}]}, 'extended_entities': {'media': [{'id': 1037491491277496321, 'id_str': '1037491491277496321', 'indices': [30, 53], 'media_url': 'http://pbs.twimg.com/tweet_video_thumb/DmXpA7MV4AERID_.jpg', 'media_url_https': 'https://pbs.twimg.com/tweet_video_thumb/DmXpA7MV4AERID_.jpg', 'url': 'https://t.co/rqi9egRjAc', 'display_url': 'pic.twitter.com/rqi9egRjAc', 'expanded_url': 'https://twitter.com/JMKEY11/status/1037491545182679040/photo/1', 'type': 'animated_gif', 'video_info': {'aspect_ratio': [125, 114], 'variants': [{'bitrate': 0, 'content_type': 'video/mp4', 'url': 'https://video.twimg.com/tweet_video/DmXpA7MV4AERID_.mp4'}]}, 'sizes': {'thumb': {'w': 150, 'h': 150, 'resize': 'crop'}, 'medium': {'w': 500, 'h': 456, 'resize': 'fit'}, 'large': {'w': 500, 'h': 456, 'resize': 'fit'}, 'small': {'w': 500, 'h': 456, 'resize': 'fit'}}, 'source_status_id': 1037491545182679040, 'source_status_id_str': '1037491545182679040', 'source_user_id': 827226687062503424, 'source_user_id_str': '827226687062503424'}]}, 'favorited': False, 'retweeted': False, 'possibly_sensitive': False, 'filter_level': 'low', 'lang': 'en'}, 'is_quote_status': False, 'quote_count': 0, 'reply_count': 0, 'retweet_count': 0, 'favorite_count': 0, 'entities': {'hashtags': [], 'urls': [], 'user_mentions': [{'screen_name': 'hiraidotjpg', 'name': 'momo pics !', 'id': 831185127636103171, 'id_str': '831185127636103171', 'indices': [3, 15]}], 'symbols': [], 'media': [{'id': 1037491491277496321, 'id_str': '1037491491277496321', 'indices': [47, 70], 'media_url': 'http://pbs.twimg.com/tweet_video_thumb/DmXpA7MV4AERID_.jpg', 'media_url_https': 'https://pbs.twimg.com/tweet_video_thumb/DmXpA7MV4AERID_.jpg', 'url': 'https://t.co/rqi9egRjAc', 'display_url': 'pic.twitter.com/rqi9egRjAc', 'expanded_url': 'https://twitter.com/JMKEY11/status/1037491545182679040/photo/1', 'type': 'photo', 'sizes': {'thumb': {'w': 150, 'h': 150, 'resize': 'crop'}, 'medium': {'w': 500, 'h': 456, 'resize': 'fit'}, 'large': {'w': 500, 'h': 456, 'resize': 'fit'}, 'small': {'w': 500, 'h': 456, 'resize': 'fit'}}, 'source_status_id': 1037491545182679040, 'source_status_id_str': '1037491545182679040', 'source_user_id': 827226687062503424, 'source_user_id_str': '827226687062503424'}]}, 'extended_entities': {'media': [{'id': 1037491491277496321, 'id_str': '1037491491277496321', 'indices': [47, 70], 'media_url': 'http://pbs.twimg.com/tweet_video_thumb/DmXpA7MV4AERID_.jpg', 'media_url_https': 'https://pbs.twimg.com/tweet_video_thumb/DmXpA7MV4AERID_.jpg', 'url': 'https://t.co/rqi9egRjAc', 'display_url': 'pic.twitter.com/rqi9egRjAc', 'expanded_url': 'https://twitter.com/JMKEY11/status/1037491545182679040/photo/1', 'type': 'animated_gif', 'video_info': {'aspect_ratio': [125, 114], 'variants': [{'bitrate': 0, 'content_type': 'video/mp4', 'url': 'https://video.twimg.com/tweet_video/DmXpA7MV4AERID_.mp4'}]}, 'sizes': {'thumb': {'w': 150, 'h': 150, 'resize': 'crop'}, 'medium': {'w': 500, 'h': 456, 'resize': 'fit'}, 'large': {'w': 500, 'h': 456, 'resize': 'fit'}, 'small': {'w': 500, 'h': 456, 'resize': 'fit'}}, 'source_status_id': 1037491545182679040, 'source_status_id_str': '1037491545182679040', 'source_user_id': 827226687062503424, 'source_user_id_str': '827226687062503424'}]}, 'favorited': False, 'retweeted': False, 'possibly_sensitive': False, 'filter_level': 'low', 'lang': 'en', 'timestamp_ms': '1536233928631'}\n"
     ]
    },
    {
     "name": "stdout",
     "output_type": "stream",
     "text": [
      "8\n",
      "{'created_at': 'Thu Sep 06 11:38:52 +0000 2018', 'id': 1037666438197198848, 'id_str': '1037666438197198848', 'text': 'RT @MattNorlander: Loyola-Chicago released its full schedule today. Porter Moser tried—but failed—to abundantly schedule up and get power c…', 'source': '<a href=\"http://twitter.com/download/iphone\" rel=\"nofollow\">Twitter for iPhone</a>', 'truncated': False, 'in_reply_to_status_id': None, 'in_reply_to_status_id_str': None, 'in_reply_to_user_id': None, 'in_reply_to_user_id_str': None, 'in_reply_to_screen_name': None, 'user': {'id': 134940834, 'id_str': '134940834', 'name': 'USBWA', 'screen_name': 'USBWA', 'location': 'St. Louis, MO', 'url': 'http://www.usbwa.com', 'description': 'Official Twitter of the U.S. Basketball Writers Association, serving journalists who cover college basketball since 1956. News links provided as a courtesy.', 'translator_type': 'none', 'protected': False, 'verified': False, 'followers_count': 2725, 'friends_count': 1051, 'listed_count': 88, 'favourites_count': 157, 'statuses_count': 2333, 'created_at': 'Mon Apr 19 22:24:14 +0000 2010', 'utc_offset': None, 'time_zone': None, 'geo_enabled': True, 'lang': 'en', 'contributors_enabled': False, 'is_translator': False, 'profile_background_color': 'EEEEEE', 'profile_background_image_url': 'http://abs.twimg.com/images/themes/theme1/bg.png', 'profile_background_image_url_https': 'https://abs.twimg.com/images/themes/theme1/bg.png', 'profile_background_tile': True, 'profile_link_color': 'CC0000', 'profile_sidebar_border_color': 'CC0000', 'profile_sidebar_fill_color': 'EEEEEE', 'profile_text_color': '000000', 'profile_use_background_image': True, 'profile_image_url': 'http://pbs.twimg.com/profile_images/1293381786/usbwa_normal.png', 'profile_image_url_https': 'https://pbs.twimg.com/profile_images/1293381786/usbwa_normal.png', 'profile_banner_url': 'https://pbs.twimg.com/profile_banners/134940834/1523462930', 'default_profile': False, 'default_profile_image': False, 'following': None, 'follow_request_sent': None, 'notifications': None}, 'geo': None, 'coordinates': None, 'place': None, 'contributors': None, 'retweeted_status': {'created_at': 'Tue Sep 04 20:00:16 +0000 2018', 'id': 1037067845946028035, 'id_str': '1037067845946028035', 'text': 'Loyola-Chicago released its full schedule today. Porter Moser tried—but failed—to abundantly schedule up and get po… https://t.co/0QIQFBg0a1', 'source': '<a href=\"https://about.twitter.com/products/tweetdeck\" rel=\"nofollow\">TweetDeck</a>', 'truncated': True, 'in_reply_to_status_id': None, 'in_reply_to_status_id_str': None, 'in_reply_to_user_id': None, 'in_reply_to_user_id_str': None, 'in_reply_to_screen_name': None, 'user': {'id': 22730851, 'id_str': '22730851', 'name': 'Matt Norlander', 'screen_name': 'MattNorlander', 'location': 'Connecticut.', 'url': 'https://www.facebook.com/MattNorlanderWriter', 'description': 'Senior Writer, @CBSSports; occasional music hack elsewhere. Host of @RecordsandRiffs music podcast. Come in from the noise for a time.', 'translator_type': 'none', 'protected': False, 'verified': True, 'followers_count': 39463, 'friends_count': 315, 'listed_count': 1198, 'favourites_count': 16, 'statuses_count': 51400, 'created_at': 'Wed Mar 04 04:05:29 +0000 2009', 'utc_offset': None, 'time_zone': None, 'geo_enabled': False, 'lang': 'en', 'contributors_enabled': False, 'is_translator': False, 'profile_background_color': '000000', 'profile_background_image_url': 'http://abs.twimg.com/images/themes/theme1/bg.png', 'profile_background_image_url_https': 'https://abs.twimg.com/images/themes/theme1/bg.png', 'profile_background_tile': False, 'profile_link_color': '1D00F5', 'profile_sidebar_border_color': 'FFFFFF', 'profile_sidebar_fill_color': '7CB9DE', 'profile_text_color': '333333', 'profile_use_background_image': True, 'profile_image_url': 'http://pbs.twimg.com/profile_images/997467939082190848/fNhZc8cb_normal.jpg', 'profile_image_url_https': 'https://pbs.twimg.com/profile_images/997467939082190848/fNhZc8cb_normal.jpg', 'profile_banner_url': 'https://pbs.twimg.com/profile_banners/22730851/1522862175', 'default_profile': False, 'default_profile_image': False, 'following': None, 'follow_request_sent': None, 'notifications': None}, 'geo': None, 'coordinates': None, 'place': None, 'contributors': None, 'is_quote_status': False, 'extended_tweet': {'full_text': 'Loyola-Chicago released its full schedule today. Porter Moser tried—but failed—to abundantly schedule up and get power conference teams to play the Ramblers.\\n\\n\"Here I am, a Final Four team, getting bought.\" \\n\\nThe game, at times, still feels rigged. https://t.co/JADRZ3YhcU', 'display_text_range': [0, 272], 'entities': {'hashtags': [], 'urls': [{'url': 'https://t.co/JADRZ3YhcU', 'expanded_url': 'https://www.cbssports.com/college-basketball/news/loyola-chicagos-non-con-schedule-is-lacking-because-other-coaches-were-wrongly-afraid-to-schedule-the-ramblers/', 'display_url': 'cbssports.com/college-basket…', 'indices': [249, 272]}], 'user_mentions': [], 'symbols': []}}, 'quote_count': 64, 'reply_count': 22, 'retweet_count': 133, 'favorite_count': 294, 'entities': {'hashtags': [], 'urls': [{'url': 'https://t.co/0QIQFBg0a1', 'expanded_url': 'https://twitter.com/i/web/status/1037067845946028035', 'display_url': 'twitter.com/i/web/status/1…', 'indices': [117, 140]}], 'user_mentions': [], 'symbols': []}, 'favorited': False, 'retweeted': False, 'possibly_sensitive': False, 'filter_level': 'low', 'lang': 'en'}, 'is_quote_status': False, 'quote_count': 0, 'reply_count': 0, 'retweet_count': 0, 'favorite_count': 0, 'entities': {'hashtags': [], 'urls': [], 'user_mentions': [{'screen_name': 'MattNorlander', 'name': 'Matt Norlander', 'id': 22730851, 'id_str': '22730851', 'indices': [3, 17]}], 'symbols': []}, 'favorited': False, 'retweeted': False, 'filter_level': 'low', 'lang': 'en', 'timestamp_ms': '1536233932433'}\n",
      "9\n",
      "{'created_at': 'Thu Sep 06 11:38:56 +0000 2018', 'id': 1037666455418859520, 'id_str': '1037666455418859520', 'text': 'RT @Chiseled_Scott: 🏝️ Having been there regularly at courtside with Saddleback College Basketball simply adds more experience to my extens…', 'source': '<a href=\"http://twitter.com\" rel=\"nofollow\">Twitter Web Client</a>', 'truncated': False, 'in_reply_to_status_id': None, 'in_reply_to_status_id_str': None, 'in_reply_to_user_id': None, 'in_reply_to_user_id_str': None, 'in_reply_to_screen_name': None, 'user': {'id': 96848521, 'id_str': '96848521', 'name': 'Scott Davis', 'screen_name': 'Chiseled_Scott', 'location': 'Pacific Northwest ~ California', 'url': 'http://www.facebook.com/jscottdavis.usa', 'description': 'JOB WANTED: Intercollegiate Head Basketball Coach ~ Played College and High School Basketball, College Swimming; Former Active U.S. Navy ~ Bachelor of Science.', 'translator_type': 'none', 'protected': False, 'verified': False, 'followers_count': 5666, 'friends_count': 6175, 'listed_count': 348, 'favourites_count': 1551, 'statuses_count': 71221, 'created_at': 'Mon Dec 14 21:50:30 +0000 2009', 'utc_offset': None, 'time_zone': None, 'geo_enabled': False, 'lang': 'en', 'contributors_enabled': False, 'is_translator': False, 'profile_background_color': 'ACDED6', 'profile_background_image_url': 'http://abs.twimg.com/images/themes/theme18/bg.gif', 'profile_background_image_url_https': 'https://abs.twimg.com/images/themes/theme18/bg.gif', 'profile_background_tile': False, 'profile_link_color': '038543', 'profile_sidebar_border_color': 'EEEEEE', 'profile_sidebar_fill_color': 'F6F6F6', 'profile_text_color': '333333', 'profile_use_background_image': True, 'profile_image_url': 'http://pbs.twimg.com/profile_images/941457356587765761/dwybqLKB_normal.jpg', 'profile_image_url_https': 'https://pbs.twimg.com/profile_images/941457356587765761/dwybqLKB_normal.jpg', 'profile_banner_url': 'https://pbs.twimg.com/profile_banners/96848521/1513296414', 'default_profile': False, 'default_profile_image': False, 'following': None, 'follow_request_sent': None, 'notifications': None}, 'geo': None, 'coordinates': None, 'place': None, 'contributors': None, 'retweeted_status': {'created_at': 'Sun Sep 02 12:49:06 +0000 2018', 'id': 1036234559849779200, 'id_str': '1036234559849779200', 'text': '🏝️ Having been there regularly at courtside with Saddleback College Basketball simply adds more experience to my ex… https://t.co/jjxokOxvgR', 'display_text_range': [0, 140], 'source': '<a href=\"http://twitter.com\" rel=\"nofollow\">Twitter Web Client</a>', 'truncated': True, 'in_reply_to_status_id': None, 'in_reply_to_status_id_str': None, 'in_reply_to_user_id': None, 'in_reply_to_user_id_str': None, 'in_reply_to_screen_name': None, 'user': {'id': 96848521, 'id_str': '96848521', 'name': 'Scott Davis', 'screen_name': 'Chiseled_Scott', 'location': 'Pacific Northwest ~ California', 'url': 'http://www.facebook.com/jscottdavis.usa', 'description': 'JOB WANTED: Intercollegiate Head Basketball Coach ~ Played College and High School Basketball, College Swimming; Former Active U.S. Navy ~ Bachelor of Science.', 'translator_type': 'none', 'protected': False, 'verified': False, 'followers_count': 5666, 'friends_count': 6175, 'listed_count': 348, 'favourites_count': 1551, 'statuses_count': 71220, 'created_at': 'Mon Dec 14 21:50:30 +0000 2009', 'utc_offset': None, 'time_zone': None, 'geo_enabled': False, 'lang': 'en', 'contributors_enabled': False, 'is_translator': False, 'profile_background_color': 'ACDED6', 'profile_background_image_url': 'http://abs.twimg.com/images/themes/theme18/bg.gif', 'profile_background_image_url_https': 'https://abs.twimg.com/images/themes/theme18/bg.gif', 'profile_background_tile': False, 'profile_link_color': '038543', 'profile_sidebar_border_color': 'EEEEEE', 'profile_sidebar_fill_color': 'F6F6F6', 'profile_text_color': '333333', 'profile_use_background_image': True, 'profile_image_url': 'http://pbs.twimg.com/profile_images/941457356587765761/dwybqLKB_normal.jpg', 'profile_image_url_https': 'https://pbs.twimg.com/profile_images/941457356587765761/dwybqLKB_normal.jpg', 'profile_banner_url': 'https://pbs.twimg.com/profile_banners/96848521/1513296414', 'default_profile': False, 'default_profile_image': False, 'following': None, 'follow_request_sent': None, 'notifications': None}, 'geo': None, 'coordinates': None, 'place': None, 'contributors': None, 'is_quote_status': False, 'extended_tweet': {'full_text': '🏝️ Having been there regularly at courtside with Saddleback College Basketball simply adds more experience to my extensive qualifications. #Basketball #Experience #Veterans https://t.co/zl3RoZRCQf', 'display_text_range': [0, 172], 'entities': {'hashtags': [{'text': 'Basketball', 'indices': [139, 150]}, {'text': 'Experience', 'indices': [151, 162]}, {'text': 'Veterans', 'indices': [163, 172]}], 'urls': [], 'user_mentions': [], 'symbols': [], 'media': [{'id': 1036234523174785024, 'id_str': '1036234523174785024', 'indices': [173, 196], 'media_url': 'http://pbs.twimg.com/media/DmFxzwHUUAAZElN.jpg', 'media_url_https': 'https://pbs.twimg.com/media/DmFxzwHUUAAZElN.jpg', 'url': 'https://t.co/zl3RoZRCQf', 'display_url': 'pic.twitter.com/zl3RoZRCQf', 'expanded_url': 'https://twitter.com/Chiseled_Scott/status/1036234559849779200/photo/1', 'type': 'photo', 'sizes': {'thumb': {'w': 150, 'h': 150, 'resize': 'crop'}, 'small': {'w': 680, 'h': 383, 'resize': 'fit'}, 'large': {'w': 1200, 'h': 675, 'resize': 'fit'}, 'medium': {'w': 1200, 'h': 675, 'resize': 'fit'}}}]}, 'extended_entities': {'media': [{'id': 1036234523174785024, 'id_str': '1036234523174785024', 'indices': [173, 196], 'media_url': 'http://pbs.twimg.com/media/DmFxzwHUUAAZElN.jpg', 'media_url_https': 'https://pbs.twimg.com/media/DmFxzwHUUAAZElN.jpg', 'url': 'https://t.co/zl3RoZRCQf', 'display_url': 'pic.twitter.com/zl3RoZRCQf', 'expanded_url': 'https://twitter.com/Chiseled_Scott/status/1036234559849779200/photo/1', 'type': 'photo', 'sizes': {'thumb': {'w': 150, 'h': 150, 'resize': 'crop'}, 'small': {'w': 680, 'h': 383, 'resize': 'fit'}, 'large': {'w': 1200, 'h': 675, 'resize': 'fit'}, 'medium': {'w': 1200, 'h': 675, 'resize': 'fit'}}}]}}, 'quote_count': 0, 'reply_count': 0, 'retweet_count': 1, 'favorite_count': 0, 'entities': {'hashtags': [], 'urls': [{'url': 'https://t.co/jjxokOxvgR', 'expanded_url': 'https://twitter.com/i/web/status/1036234559849779200', 'display_url': 'twitter.com/i/web/status/1…', 'indices': [117, 140]}], 'user_mentions': [], 'symbols': []}, 'favorited': False, 'retweeted': False, 'possibly_sensitive': False, 'filter_level': 'low', 'lang': 'en'}, 'is_quote_status': False, 'quote_count': 0, 'reply_count': 0, 'retweet_count': 0, 'favorite_count': 0, 'entities': {'hashtags': [], 'urls': [], 'user_mentions': [{'screen_name': 'Chiseled_Scott', 'name': 'Scott Davis', 'id': 96848521, 'id_str': '96848521', 'indices': [3, 18]}], 'symbols': []}, 'favorited': False, 'retweeted': False, 'filter_level': 'low', 'lang': 'en', 'timestamp_ms': '1536233936539'}\n"
     ]
    }
   ],
   "source": [
    "l = MyStreamListener()\n",
    "\n",
    "# Create you Stream object with authentication\n",
    "stream = tweepy.Stream(auth, l)\n",
    "\n",
    "\n",
    "# Filter Twitter Streams to capture data by the keywords:\n",
    "#stream.filter(locations=[-74.0231,45.3299,-73.3846,45.7311],track=['clinton','trump','sanders','cruz'])\n",
    "stream.filter(track=['basketball'])"
   ]
  },
  {
   "cell_type": "code",
   "execution_count": null,
   "metadata": {
    "collapsed": true
   },
   "outputs": [],
   "source": []
  },
  {
   "cell_type": "code",
   "execution_count": 10,
   "metadata": {},
   "outputs": [
    {
     "name": "stdout",
     "output_type": "stream",
     "text": [
      "dict_keys(['created_at', 'id', 'id_str', 'text', 'display_text_range', 'source', 'truncated', 'in_reply_to_status_id', 'in_reply_to_status_id_str', 'in_reply_to_user_id', 'in_reply_to_user_id_str', 'in_reply_to_screen_name', 'user', 'geo', 'coordinates', 'place', 'contributors', 'is_quote_status', 'quote_count', 'reply_count', 'retweet_count', 'favorite_count', 'entities', 'extended_entities', 'favorited', 'retweeted', 'possibly_sensitive', 'filter_level', 'lang', 'timestamp_ms'])\n"
     ]
    }
   ],
   "source": [
    "import json\n",
    "\n",
    "# String of path to file: tweets_data_path\n",
    "tweets_data_path='tweets.txt'\n",
    "\n",
    "# Initialize empty list to store tweets: tweets_data\n",
    "tweets_data=[]\n",
    "\n",
    "# Open connection to file\n",
    "tweets_file = open(tweets_data_path, \"r\")\n",
    "\n",
    "# Read in tweets and store in list: tweets_data\n",
    "for line in tweets_file:\n",
    "    tweet=json.loads(line)\n",
    "    tweets_data.append(tweet)\n",
    "\n",
    "# Close connection to file\n",
    "tweets_file.close()\n",
    "\n",
    "# Print the keys of the first tweet dict\n",
    "print(tweets_data[0].keys())"
   ]
  },
  {
   "cell_type": "code",
   "execution_count": 11,
   "metadata": {
    "scrolled": true
   },
   "outputs": [
    {
     "data": {
      "text/plain": [
       "{'contributors': None,\n",
       " 'coordinates': None,\n",
       " 'created_at': 'Thu Sep 06 11:38:56 +0000 2018',\n",
       " 'entities': {'hashtags': [],\n",
       "  'symbols': [],\n",
       "  'urls': [],\n",
       "  'user_mentions': [{'id': 96848521,\n",
       "    'id_str': '96848521',\n",
       "    'indices': [3, 18],\n",
       "    'name': 'Scott Davis',\n",
       "    'screen_name': 'Chiseled_Scott'}]},\n",
       " 'favorite_count': 0,\n",
       " 'favorited': False,\n",
       " 'filter_level': 'low',\n",
       " 'geo': None,\n",
       " 'id': 1037666455418859520,\n",
       " 'id_str': '1037666455418859520',\n",
       " 'in_reply_to_screen_name': None,\n",
       " 'in_reply_to_status_id': None,\n",
       " 'in_reply_to_status_id_str': None,\n",
       " 'in_reply_to_user_id': None,\n",
       " 'in_reply_to_user_id_str': None,\n",
       " 'is_quote_status': False,\n",
       " 'lang': 'en',\n",
       " 'place': None,\n",
       " 'quote_count': 0,\n",
       " 'reply_count': 0,\n",
       " 'retweet_count': 0,\n",
       " 'retweeted': False,\n",
       " 'retweeted_status': {'contributors': None,\n",
       "  'coordinates': None,\n",
       "  'created_at': 'Sun Sep 02 12:49:06 +0000 2018',\n",
       "  'display_text_range': [0, 140],\n",
       "  'entities': {'hashtags': [],\n",
       "   'symbols': [],\n",
       "   'urls': [{'display_url': 'twitter.com/i/web/status/1…',\n",
       "     'expanded_url': 'https://twitter.com/i/web/status/1036234559849779200',\n",
       "     'indices': [117, 140],\n",
       "     'url': 'https://t.co/jjxokOxvgR'}],\n",
       "   'user_mentions': []},\n",
       "  'extended_tweet': {'display_text_range': [0, 172],\n",
       "   'entities': {'hashtags': [{'indices': [139, 150], 'text': 'Basketball'},\n",
       "     {'indices': [151, 162], 'text': 'Experience'},\n",
       "     {'indices': [163, 172], 'text': 'Veterans'}],\n",
       "    'media': [{'display_url': 'pic.twitter.com/zl3RoZRCQf',\n",
       "      'expanded_url': 'https://twitter.com/Chiseled_Scott/status/1036234559849779200/photo/1',\n",
       "      'id': 1036234523174785024,\n",
       "      'id_str': '1036234523174785024',\n",
       "      'indices': [173, 196],\n",
       "      'media_url': 'http://pbs.twimg.com/media/DmFxzwHUUAAZElN.jpg',\n",
       "      'media_url_https': 'https://pbs.twimg.com/media/DmFxzwHUUAAZElN.jpg',\n",
       "      'sizes': {'large': {'h': 675, 'resize': 'fit', 'w': 1200},\n",
       "       'medium': {'h': 675, 'resize': 'fit', 'w': 1200},\n",
       "       'small': {'h': 383, 'resize': 'fit', 'w': 680},\n",
       "       'thumb': {'h': 150, 'resize': 'crop', 'w': 150}},\n",
       "      'type': 'photo',\n",
       "      'url': 'https://t.co/zl3RoZRCQf'}],\n",
       "    'symbols': [],\n",
       "    'urls': [],\n",
       "    'user_mentions': []},\n",
       "   'extended_entities': {'media': [{'display_url': 'pic.twitter.com/zl3RoZRCQf',\n",
       "      'expanded_url': 'https://twitter.com/Chiseled_Scott/status/1036234559849779200/photo/1',\n",
       "      'id': 1036234523174785024,\n",
       "      'id_str': '1036234523174785024',\n",
       "      'indices': [173, 196],\n",
       "      'media_url': 'http://pbs.twimg.com/media/DmFxzwHUUAAZElN.jpg',\n",
       "      'media_url_https': 'https://pbs.twimg.com/media/DmFxzwHUUAAZElN.jpg',\n",
       "      'sizes': {'large': {'h': 675, 'resize': 'fit', 'w': 1200},\n",
       "       'medium': {'h': 675, 'resize': 'fit', 'w': 1200},\n",
       "       'small': {'h': 383, 'resize': 'fit', 'w': 680},\n",
       "       'thumb': {'h': 150, 'resize': 'crop', 'w': 150}},\n",
       "      'type': 'photo',\n",
       "      'url': 'https://t.co/zl3RoZRCQf'}]},\n",
       "   'full_text': '🏝️ Having been there regularly at courtside with Saddleback College Basketball simply adds more experience to my extensive qualifications. #Basketball #Experience #Veterans https://t.co/zl3RoZRCQf'},\n",
       "  'favorite_count': 0,\n",
       "  'favorited': False,\n",
       "  'filter_level': 'low',\n",
       "  'geo': None,\n",
       "  'id': 1036234559849779200,\n",
       "  'id_str': '1036234559849779200',\n",
       "  'in_reply_to_screen_name': None,\n",
       "  'in_reply_to_status_id': None,\n",
       "  'in_reply_to_status_id_str': None,\n",
       "  'in_reply_to_user_id': None,\n",
       "  'in_reply_to_user_id_str': None,\n",
       "  'is_quote_status': False,\n",
       "  'lang': 'en',\n",
       "  'place': None,\n",
       "  'possibly_sensitive': False,\n",
       "  'quote_count': 0,\n",
       "  'reply_count': 0,\n",
       "  'retweet_count': 1,\n",
       "  'retweeted': False,\n",
       "  'source': '<a href=\"http://twitter.com\" rel=\"nofollow\">Twitter Web Client</a>',\n",
       "  'text': '🏝️ Having been there regularly at courtside with Saddleback College Basketball simply adds more experience to my ex… https://t.co/jjxokOxvgR',\n",
       "  'truncated': True,\n",
       "  'user': {'contributors_enabled': False,\n",
       "   'created_at': 'Mon Dec 14 21:50:30 +0000 2009',\n",
       "   'default_profile': False,\n",
       "   'default_profile_image': False,\n",
       "   'description': 'JOB WANTED: Intercollegiate Head Basketball Coach ~ Played College and High School Basketball, College Swimming; Former Active U.S. Navy ~ Bachelor of Science.',\n",
       "   'favourites_count': 1551,\n",
       "   'follow_request_sent': None,\n",
       "   'followers_count': 5666,\n",
       "   'following': None,\n",
       "   'friends_count': 6175,\n",
       "   'geo_enabled': False,\n",
       "   'id': 96848521,\n",
       "   'id_str': '96848521',\n",
       "   'is_translator': False,\n",
       "   'lang': 'en',\n",
       "   'listed_count': 348,\n",
       "   'location': 'Pacific Northwest ~ California',\n",
       "   'name': 'Scott Davis',\n",
       "   'notifications': None,\n",
       "   'profile_background_color': 'ACDED6',\n",
       "   'profile_background_image_url': 'http://abs.twimg.com/images/themes/theme18/bg.gif',\n",
       "   'profile_background_image_url_https': 'https://abs.twimg.com/images/themes/theme18/bg.gif',\n",
       "   'profile_background_tile': False,\n",
       "   'profile_banner_url': 'https://pbs.twimg.com/profile_banners/96848521/1513296414',\n",
       "   'profile_image_url': 'http://pbs.twimg.com/profile_images/941457356587765761/dwybqLKB_normal.jpg',\n",
       "   'profile_image_url_https': 'https://pbs.twimg.com/profile_images/941457356587765761/dwybqLKB_normal.jpg',\n",
       "   'profile_link_color': '038543',\n",
       "   'profile_sidebar_border_color': 'EEEEEE',\n",
       "   'profile_sidebar_fill_color': 'F6F6F6',\n",
       "   'profile_text_color': '333333',\n",
       "   'profile_use_background_image': True,\n",
       "   'protected': False,\n",
       "   'screen_name': 'Chiseled_Scott',\n",
       "   'statuses_count': 71220,\n",
       "   'time_zone': None,\n",
       "   'translator_type': 'none',\n",
       "   'url': 'http://www.facebook.com/jscottdavis.usa',\n",
       "   'utc_offset': None,\n",
       "   'verified': False}},\n",
       " 'source': '<a href=\"http://twitter.com\" rel=\"nofollow\">Twitter Web Client</a>',\n",
       " 'text': 'RT @Chiseled_Scott: 🏝️ Having been there regularly at courtside with Saddleback College Basketball simply adds more experience to my extens…',\n",
       " 'timestamp_ms': '1536233936539',\n",
       " 'truncated': False,\n",
       " 'user': {'contributors_enabled': False,\n",
       "  'created_at': 'Mon Dec 14 21:50:30 +0000 2009',\n",
       "  'default_profile': False,\n",
       "  'default_profile_image': False,\n",
       "  'description': 'JOB WANTED: Intercollegiate Head Basketball Coach ~ Played College and High School Basketball, College Swimming; Former Active U.S. Navy ~ Bachelor of Science.',\n",
       "  'favourites_count': 1551,\n",
       "  'follow_request_sent': None,\n",
       "  'followers_count': 5666,\n",
       "  'following': None,\n",
       "  'friends_count': 6175,\n",
       "  'geo_enabled': False,\n",
       "  'id': 96848521,\n",
       "  'id_str': '96848521',\n",
       "  'is_translator': False,\n",
       "  'lang': 'en',\n",
       "  'listed_count': 348,\n",
       "  'location': 'Pacific Northwest ~ California',\n",
       "  'name': 'Scott Davis',\n",
       "  'notifications': None,\n",
       "  'profile_background_color': 'ACDED6',\n",
       "  'profile_background_image_url': 'http://abs.twimg.com/images/themes/theme18/bg.gif',\n",
       "  'profile_background_image_url_https': 'https://abs.twimg.com/images/themes/theme18/bg.gif',\n",
       "  'profile_background_tile': False,\n",
       "  'profile_banner_url': 'https://pbs.twimg.com/profile_banners/96848521/1513296414',\n",
       "  'profile_image_url': 'http://pbs.twimg.com/profile_images/941457356587765761/dwybqLKB_normal.jpg',\n",
       "  'profile_image_url_https': 'https://pbs.twimg.com/profile_images/941457356587765761/dwybqLKB_normal.jpg',\n",
       "  'profile_link_color': '038543',\n",
       "  'profile_sidebar_border_color': 'EEEEEE',\n",
       "  'profile_sidebar_fill_color': 'F6F6F6',\n",
       "  'profile_text_color': '333333',\n",
       "  'profile_use_background_image': True,\n",
       "  'protected': False,\n",
       "  'screen_name': 'Chiseled_Scott',\n",
       "  'statuses_count': 71221,\n",
       "  'time_zone': None,\n",
       "  'translator_type': 'none',\n",
       "  'url': 'http://www.facebook.com/jscottdavis.usa',\n",
       "  'utc_offset': None,\n",
       "  'verified': False}}"
      ]
     },
     "execution_count": 11,
     "metadata": {},
     "output_type": "execute_result"
    }
   ],
   "source": [
    "tweets_data[9]"
   ]
  },
  {
   "cell_type": "code",
   "execution_count": 12,
   "metadata": {
    "scrolled": true
   },
   "outputs": [
    {
     "name": "stdout",
     "output_type": "stream",
     "text": [
      "                                                text lang  \\\n",
      "0  The Phoenix Suns should play to win the game -...   en   \n",
      "1  The second winningest HS GBB coach in Indiana ...   en   \n",
      "2  RT @PrepHoops: 🚨🚨 ATTENTION HOOPERS 🚨🚨\\n\\nIf y...   en   \n",
      "3  can sm stop fucking around and let them perfor...   en   \n",
      "4                                                !!!  und   \n",
      "\n",
      "                                                user  \n",
      "0  {'id': 259262745, 'id_str': '259262745', 'name...  \n",
      "1  {'id': 845123045240979456, 'id_str': '84512304...  \n",
      "2  {'id': 1915562090, 'id_str': '1915562090', 'na...  \n",
      "3  {'id': 1926987030, 'id_str': '1926987030', 'na...  \n",
      "4  {'id': 63306399, 'id_str': '63306399', 'name':...  \n"
     ]
    }
   ],
   "source": [
    "import pandas as pd\n",
    "\n",
    "# Build DataFrame of tweet texts and languages\n",
    "df = pd.DataFrame(tweets_data, columns=['text','lang','user'])\n",
    "\n",
    "# Print head of DataFrame\n",
    "print(df.head())"
   ]
  },
  {
   "cell_type": "code",
   "execution_count": 79,
   "metadata": {
    "collapsed": true
   },
   "outputs": [],
   "source": [
    "df.to_csv('tweets.csv')"
   ]
  }
 ],
 "metadata": {
  "kernelspec": {
   "display_name": "Python 3",
   "language": "python",
   "name": "python3"
  },
  "language_info": {
   "codemirror_mode": {
    "name": "ipython",
    "version": 3
   },
   "file_extension": ".py",
   "mimetype": "text/x-python",
   "name": "python",
   "nbconvert_exporter": "python",
   "pygments_lexer": "ipython3",
   "version": "3.6.3"
  }
 },
 "nbformat": 4,
 "nbformat_minor": 2
}
