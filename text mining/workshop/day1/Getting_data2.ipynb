{
 "cells": [
  {
   "cell_type": "code",
   "execution_count": 2,
   "metadata": {
    "collapsed": true
   },
   "outputs": [],
   "source": [
    "# Import package\n",
    "import requests"
   ]
  },
  {
   "cell_type": "code",
   "execution_count": 3,
   "metadata": {
    "collapsed": true
   },
   "outputs": [],
   "source": [
    "# Assign URL to variable: url\n",
    "url = 'http://www.omdbapi.com/?apikey=ff21610b&t=The Meg'"
   ]
  },
  {
   "cell_type": "code",
   "execution_count": 4,
   "metadata": {},
   "outputs": [],
   "source": [
    "# Package the request, send the request and catch the response: r\n",
    "r = requests.get(url)"
   ]
  },
  {
   "cell_type": "code",
   "execution_count": 7,
   "metadata": {},
   "outputs": [
    {
     "name": "stdout",
     "output_type": "stream",
     "text": [
      "{\"Title\":\"The Meg\",\"Year\":\"2018\",\"Rated\":\"PG-13\",\"Released\":\"10 Aug 2018\",\"Runtime\":\"113 min\",\"Genre\":\"Action, Horror, Sci-Fi\",\"Director\":\"Jon Turteltaub\",\"Writer\":\"Dean Georgaris (screenplay by), Jon Hoeber (screenplay by), Erich Hoeber (screenplay by), Steve Alten (based on the novel \\\"Meg\\\" by)\",\"Actors\":\"Jason Statham, Bingbing Li, Rainn Wilson, Cliff Curtis\",\"Plot\":\"After escaping an attack by what he claims was a 70-foot shark, Jonas Taylor must confront his fears to save those trapped in a sunken submersible.\",\"Language\":\"English, Mandarin\",\"Country\":\"USA, China\",\"Awards\":\"N/A\",\"Poster\":\"https://m.media-amazon.com/images/M/MV5BMjg0MzA4MDE0N15BMl5BanBnXkFtZTgwMzk3MzAwNjM@._V1_SX300.jpg\",\"Ratings\":[{\"Source\":\"Internet Movie Database\",\"Value\":\"6.1/10\"},{\"Source\":\"Rotten Tomatoes\",\"Value\":\"47%\"},{\"Source\":\"Metacritic\",\"Value\":\"46/100\"}],\"Metascore\":\"46\",\"imdbRating\":\"6.1\",\"imdbVotes\":\"26,314\",\"imdbID\":\"tt4779682\",\"Type\":\"movie\",\"DVD\":\"N/A\",\"BoxOffice\":\"N/A\",\"Production\":\"Warner Bros. Pictures\",\"Website\":\"http://TheMeg.movie\",\"Response\":\"True\"}\n"
     ]
    }
   ],
   "source": [
    "# Print out the info\n",
    "print(r.text)"
   ]
  },
  {
   "cell_type": "code",
   "execution_count": 8,
   "metadata": {},
   "outputs": [
    {
     "name": "stdout",
     "output_type": "stream",
     "text": [
      "<class 'dict'>\n"
     ]
    }
   ],
   "source": [
    "# Decode the JSON data into a dictionary: json_data\n",
    "json_data = r.json()\n",
    "print(type(json_data))"
   ]
  },
  {
   "cell_type": "raw",
   "metadata": {},
   "source": [
    "About dictionaries in Python\n",
    "Use {} curly brackets to construct the dictionary, and [] square brackets to index it. Separate the key and value with colons : and with commas , between each pair.\n",
    "\n",
    "released = {\n",
    "\t\t\"iphone\" : 2007,\n",
    "\t\t\"iphone 3G\" : 2008,\n",
    "\t\t\"iphone 3GS\" : 2009,\n",
    "\t\t\"iphone 4\" : 2010,\n",
    "\t\t\"iphone 4S\" : 2011,\n",
    "\t\t\"iphone 5\" : 2012\n",
    "\t}\n"
   ]
  },
  {
   "cell_type": "code",
   "execution_count": 9,
   "metadata": {},
   "outputs": [
    {
     "name": "stdout",
     "output_type": "stream",
     "text": [
      "{'Title': 'The Meg', 'Year': '2018', 'Rated': 'PG-13', 'Released': '10 Aug 2018', 'Runtime': '113 min', 'Genre': 'Action, Horror, Sci-Fi', 'Director': 'Jon Turteltaub', 'Writer': 'Dean Georgaris (screenplay by), Jon Hoeber (screenplay by), Erich Hoeber (screenplay by), Steve Alten (based on the novel \"Meg\" by)', 'Actors': 'Jason Statham, Bingbing Li, Rainn Wilson, Cliff Curtis', 'Plot': 'After escaping an attack by what he claims was a 70-foot shark, Jonas Taylor must confront his fears to save those trapped in a sunken submersible.', 'Language': 'English, Mandarin', 'Country': 'USA, China', 'Awards': 'N/A', 'Poster': 'https://m.media-amazon.com/images/M/MV5BMjg0MzA4MDE0N15BMl5BanBnXkFtZTgwMzk3MzAwNjM@._V1_SX300.jpg', 'Ratings': [{'Source': 'Internet Movie Database', 'Value': '6.1/10'}, {'Source': 'Rotten Tomatoes', 'Value': '47%'}, {'Source': 'Metacritic', 'Value': '46/100'}], 'Metascore': '46', 'imdbRating': '6.1', 'imdbVotes': '26,314', 'imdbID': 'tt4779682', 'Type': 'movie', 'DVD': 'N/A', 'BoxOffice': 'N/A', 'Production': 'Warner Bros. Pictures', 'Website': 'http://TheMeg.movie', 'Response': 'True'}\n"
     ]
    }
   ],
   "source": [
    "print(json_data)"
   ]
  },
  {
   "cell_type": "code",
   "execution_count": 10,
   "metadata": {},
   "outputs": [
    {
     "name": "stdout",
     "output_type": "stream",
     "text": [
      "The Meg\n"
     ]
    }
   ],
   "source": [
    "print(json_data['Title'])"
   ]
  },
  {
   "cell_type": "code",
   "execution_count": 11,
   "metadata": {},
   "outputs": [
    {
     "data": {
      "text/plain": [
       "dict_keys(['Title', 'Year', 'Rated', 'Released', 'Runtime', 'Genre', 'Director', 'Writer', 'Actors', 'Plot', 'Language', 'Country', 'Awards', 'Poster', 'Ratings', 'Metascore', 'imdbRating', 'imdbVotes', 'imdbID', 'Type', 'DVD', 'BoxOffice', 'Production', 'Website', 'Response'])"
      ]
     },
     "execution_count": 11,
     "metadata": {},
     "output_type": "execute_result"
    }
   ],
   "source": [
    "json_data.keys()"
   ]
  },
  {
   "cell_type": "code",
   "execution_count": 2,
   "metadata": {
    "collapsed": true
   },
   "outputs": [],
   "source": [
    "#for m in [1,2,3,5,6]:\n",
    "#   print(m+1)"
   ]
  },
  {
   "cell_type": "code",
   "execution_count": 12,
   "metadata": {},
   "outputs": [
    {
     "name": "stdout",
     "output_type": "stream",
     "text": [
      "Title: The Meg\n",
      "Year: 2018\n",
      "Rated: PG-13\n",
      "Released: 10 Aug 2018\n",
      "Runtime: 113 min\n",
      "Genre: Action, Horror, Sci-Fi\n",
      "Director: Jon Turteltaub\n",
      "Writer: Dean Georgaris (screenplay by), Jon Hoeber (screenplay by), Erich Hoeber (screenplay by), Steve Alten (based on the novel \"Meg\" by)\n",
      "Actors: Jason Statham, Bingbing Li, Rainn Wilson, Cliff Curtis\n",
      "Plot: After escaping an attack by what he claims was a 70-foot shark, Jonas Taylor must confront his fears to save those trapped in a sunken submersible.\n",
      "Language: English, Mandarin\n",
      "Country: USA, China\n",
      "Awards: N/A\n",
      "Poster: https://m.media-amazon.com/images/M/MV5BMjg0MzA4MDE0N15BMl5BanBnXkFtZTgwMzk3MzAwNjM@._V1_SX300.jpg\n",
      "Ratings: [{'Source': 'Internet Movie Database', 'Value': '6.1/10'}, {'Source': 'Rotten Tomatoes', 'Value': '47%'}, {'Source': 'Metacritic', 'Value': '46/100'}]\n",
      "Metascore: 46\n",
      "imdbRating: 6.1\n",
      "imdbVotes: 26,314\n",
      "imdbID: tt4779682\n",
      "Type: movie\n",
      "DVD: N/A\n",
      "BoxOffice: N/A\n",
      "Production: Warner Bros. Pictures\n",
      "Website: http://TheMeg.movie\n",
      "Response: True\n"
     ]
    }
   ],
   "source": [
    "# Print each key-value pair in json_data\n",
    "for k in json_data.keys():\n",
    "    print(k + ':', json_data[k])"
   ]
  }
 ],
 "metadata": {
  "kernelspec": {
   "display_name": "Python 3",
   "language": "python",
   "name": "python3"
  },
  "language_info": {
   "codemirror_mode": {
    "name": "ipython",
    "version": 3
   },
   "file_extension": ".py",
   "mimetype": "text/x-python",
   "name": "python",
   "nbconvert_exporter": "python",
   "pygments_lexer": "ipython3",
   "version": "3.6.3"
  }
 },
 "nbformat": 4,
 "nbformat_minor": 2
}
