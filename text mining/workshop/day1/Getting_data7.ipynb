{
 "cells": [
  {
   "cell_type": "code",
   "execution_count": 1,
   "metadata": {},
   "outputs": [],
   "source": [
    "from selenium import webdriver\n",
    "import time\n",
    "from bs4 import BeautifulSoup"
   ]
  },
  {
   "cell_type": "code",
   "execution_count": 2,
   "metadata": {},
   "outputs": [
    {
     "name": "stdout",
     "output_type": "stream",
     "text": [
      "clicked first page...\n",
      "1\n",
      "We didn't stay at the Hotel, but came for the Singapore Sling and we were disappointed to see that the Hotel was closed for renovations. I really wanted my BF to experience having a Singapore Sling at this iconic hotel. That being said, they have a pop-up \"long\" bar set up for us die-hard fans who will stop at nothing to get our taste of the Singapore Sling. When you walk in, you first get a reminder that Durians are not welcome in the bar.You can order your Singapore Sling as well as a few other drinks at the bar and if you're lucky enough to come at the right time, you can sit at the bar along the front window or at one of three small high tops. It was as good as I remembered it, served with a quarter slice of pineapple and a cherry.Peanuts are still a staple and yes, you can still throw your shells on the ground. Such a cheeky experience. Worth doing once as a stop in your Singapore Journey.\n",
      "2\n",
      "This iconic hotel has been closed yet again for major refurbishment, but is now able to open with even better facilities, guest rooms and superlative accommodation in a lovely setting, with ample gardens, restaurants, bars where you can get your famous 'Singapore Sling' and more!A well equipped souvenir shop caters for all tastes and budgets.\n",
      "3\n",
      "We were only in Singapore for a few days and were devastated to find out the Raffles was undergoing refurbishment at that time. However, they have a small area at the front of the hotel where they have a temporary small long bar and gift shop. It is very well done, only four tables but well organised and the staff are very good. To have a Singapore Sling in Raffles is one of my bucket list ticked.\n",
      "4\n",
      "This place is so well known for it’s Long Bar where you order a Singapore Sling drink and eat peanuts while throwing shells on the floor. With a group of friendly travelers while on a grand tour of Singapore made this trip so much more memorable.\n",
      "5\n",
      "Could not stop sneezing. You would find better company and classier service at your local Holiday Inn. Still living off an outdated reputation. There’s really nothing left to see here. Rooms are super cramped. The lobby lacks decent AC.\n"
     ]
    }
   ],
   "source": [
    "from selenium import webdriver\n",
    "import time\n",
    "from bs4 import BeautifulSoup\n",
    "\n",
    "drive=webdriver.Chrome(\"C:\\\\Users\\\\isscy\\\\Desktop\\\\TM_2018\\\\day1\\\\chromedriver.exe\")\n",
    "drive.set_page_load_timeout(10)\n",
    "drive.get(\"https://www.tripadvisor.com.sg/Hotel_Review-g294265-d301583-Reviews-Raffles_Hotel_Singapore-Singapore.html\")\n",
    "#drive.maximize_window()\n",
    "time.sleep(10)\n",
    "\n",
    "el = drive.find_element_by_class_name(\"ulBlueLinks\")\n",
    "el.click()\n",
    "\n",
    "print(\"clicked first page...\")\n",
    "\n",
    "time.sleep(2)\n",
    "data = drive.page_source\n",
    "soup = BeautifulSoup(data, \"html.parser\")\n",
    "i=1\n",
    "for link in soup.find_all(\"div\", {\"class\":\"review-container\"}):\n",
    "    print(i)\n",
    "    print(link.find('p').text)\n",
    "    i=i+1"
   ]
  },
  {
   "cell_type": "code",
   "execution_count": null,
   "metadata": {},
   "outputs": [],
   "source": []
  }
 ],
 "metadata": {
  "kernelspec": {
   "display_name": "Python 3",
   "language": "python",
   "name": "python3"
  },
  "language_info": {
   "codemirror_mode": {
    "name": "ipython",
    "version": 3
   },
   "file_extension": ".py",
   "mimetype": "text/x-python",
   "name": "python",
   "nbconvert_exporter": "python",
   "pygments_lexer": "ipython3",
   "version": "3.6.5"
  }
 },
 "nbformat": 4,
 "nbformat_minor": 2
}
