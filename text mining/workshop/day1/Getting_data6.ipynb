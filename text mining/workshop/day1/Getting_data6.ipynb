{
 "cells": [
  {
   "cell_type": "code",
   "execution_count": 1,
   "metadata": {},
   "outputs": [],
   "source": [
    "#Import library\n",
    "import urllib\n",
    "import urllib.request\n",
    "from bs4 import BeautifulSoup"
   ]
  },
  {
   "cell_type": "code",
   "execution_count": 2,
   "metadata": {},
   "outputs": [],
   "source": [
    "#Get an URL\n",
    "#theurl=\"https://www.tripadvisor.com.sg/Hotel_Review-g294265-d301583-Reviews-Raffles_Hotel_Singapore-Singapore.html\""
   ]
  },
  {
   "cell_type": "code",
   "execution_count": 3,
   "metadata": {},
   "outputs": [],
   "source": [
    "#Define a function\n",
    "def make_soup(url):\n",
    "    thepage=urllib.request.urlopen(url)\n",
    "    soupdata=BeautifulSoup(thepage, \"html.parser\")\n",
    "    return soupdata"
   ]
  },
  {
   "cell_type": "code",
   "execution_count": 4,
   "metadata": {},
   "outputs": [],
   "source": [
    "#soup=make_soup(theurl)"
   ]
  },
  {
   "cell_type": "code",
   "execution_count": 5,
   "metadata": {},
   "outputs": [
    {
     "name": "stdout",
     "output_type": "stream",
     "text": [
      "1\n",
      "The Long Bar at the Raffles Hotel is like stepping back in time. You can experience the true essence of Singapore's British colonial history.  A very expensive cocktail later, with great service from the bar staff, completes an essential element to any trip to Singapore.More\n",
      "2\n",
      "Singapore sling and monkey nuts in the Ballard's Room. Must do when in Singapore. Great atmosphere and full of history.  Staff and service excellent.  Great around experience.  I would definitely recommendMore\n",
      "3\n",
      "Was really disappointed to discover that the hotel is currently closed for refurbishment. However there is a pop up bar and gift shop situated close by.  The bar is small so had to wait for a table to become available.  Singapore Sling was delicious despite...More\n",
      "4\n",
      "A must do when in Singapore, we spent a good 2 hours enjoying our Singapore Slings and monkey nuts, the atmosphere is great, the service perfect. Perfect place to sit back relax and enjoy whats going on around you. Don't rush your visit here so...More\n",
      "5\n",
      "To be fair the hotel is undergoing a major renovation and we were only going to visit the bar!\n",
      "\n",
      "There is a pop up bar next door which is actually situated within a building and complete with gift shop.\n",
      "\n",
      "As with anything as famous as...More\n",
      "6\n",
      "Raffles Hotel Singapore is located in a convenient location, full of European style and classy.\n",
      "Just a bit overpriced. So its mixed of quietness from the hotel and loudness from the city.\n",
      "Worth going if you stay in Singapore.More\n",
      "7\n",
      "Really great to sit there and drink a cold beer while the others drank the famous cocktail. Bit pricey but great peanuts! Ordered food and that was really good. Was last there in 1987- the area has really changed. Singapore still fantastic.More\n",
      "8\n",
      "In fair the hotel is being renovated but we still went to Raffles pop up bar just next door to try the famed Singapore Sling and we were not disappointed, this is a great place to go and relax, note the nuts on the floor...More\n",
      "9\n",
      "I was in Singapore nearly 30 years ago with the objective of having a famous Raffles Hotel Singapore Sling.  Unfortunately the hotel was closed for renovations.  When I found out that it was again going to be closed I thought I was destined to never...More\n",
      "10\n",
      "Good to see a hotel with full fledged facilities at a reasonable price.\n",
      "Support staff are friendly and approachable.\n",
      "Easy to locate on maps .\n",
      "Thanks management for providing such a hygiene and healthy facilities.More\n",
      "11\n",
      "What a memorable time we had. All our family members many generations always went to this hotel and had many memories here. My wife and I loved the long bar at raffle peanuts going All over the floor Singapore sling drinks flowing what a great...More\n",
      "12\n",
      "The place is good to visit with a very good beautiful long bar and have a sip of drink there if you can afford otherwise you can visit only the Raffles Hotel is located in the centre of the city Singapore and beautiful to watchMore\n",
      "13\n",
      "Could not afford to stay here but visited it during the day. It really is in the centre of it all. The whole city really revolves around this area. Getting here by transit or walking was very easy. You could see marina on the bay...More\n",
      "14\n",
      "My wife and I stayed here on a trip to Australia, the hotel was amazing, staff friendly and professional, the food was good in every part of the hotel we ate in. I would definitely stay here again it’s a great location .More\n",
      "15\n",
      "I've been lucky enough to treat myself to several stays at Raffles.  Each visit was so special.  The staff are so amazingly professional and hospitable.  I know the room rate reflects the service on expects HOWEVER the hotel staff go out of their way to...More\n"
     ]
    }
   ],
   "source": [
    "#https://www.tripadvisor.com.sg/Hotel_Review-g294265-d301583-Reviews-or50-Raffles_Hotel_Singapore-Singapore.html\n",
    "    \n",
    "\n",
    "numbers=[i for i in range(5,20,5)]\n",
    "j=1\n",
    "for i in numbers:\n",
    "\n",
    "    string1='https://www.tripadvisor.com.sg/Hotel_Review-g294265-d301583-Reviews-or'\n",
    "    string2=i\n",
    "    string2=str(string2)\n",
    "    string3='-Raffles_Hotel_Singapore-Singapore.html'\n",
    "    longstring=string1+string2+string3\n",
    "    #print(longstring)\n",
    "\n",
    "\n",
    "    soup=make_soup(longstring)\n",
    "\n",
    "    for link in soup.find_all(\"div\", {\"class\":\"review-container\"}):\n",
    "        print(j)\n",
    "        print(link.find('p').text)\n",
    "        j=j+1\n"
   ]
  },
  {
   "cell_type": "code",
   "execution_count": null,
   "metadata": {},
   "outputs": [],
   "source": []
  }
 ],
 "metadata": {
  "kernelspec": {
   "display_name": "Python 3",
   "language": "python",
   "name": "python3"
  },
  "language_info": {
   "codemirror_mode": {
    "name": "ipython",
    "version": 3
   },
   "file_extension": ".py",
   "mimetype": "text/x-python",
   "name": "python",
   "nbconvert_exporter": "python",
   "pygments_lexer": "ipython3",
   "version": "3.6.5"
  }
 },
 "nbformat": 4,
 "nbformat_minor": 2
}
